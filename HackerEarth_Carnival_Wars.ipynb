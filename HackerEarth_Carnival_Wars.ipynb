{
 "cells": [
  {
   "cell_type": "markdown",
   "metadata": {},
   "source": [
    "### Column Description\n",
    "\n",
    "Product_id - Unique ID of each product\n",
    "\n",
    "Stall_no - Represents the number of stalls in the carnival (1-50)\n",
    "\n",
    "instock_date - Represents the date and time on which the product was bought\n",
    "\n",
    "Market_Category - Represents the different market categories that the products belong to\n",
    "\n",
    "Customer_name - Represents the names of the customers\n",
    "\n",
    "Loyalty_customer - Represents if a customer is a loyal customer\n",
    "\n",
    "Product_Category - Represents the 10 different product categories that the products belong to\n",
    "\n",
    "Grade - Represents the quality of products\n",
    "\n",
    "Demand - Represents the demand for the products being sold at the carnival\n",
    "\n",
    "Discount_avail - Represents whether a product is being sold at a discount or not\n",
    "\n",
    "charges_1 - Represents the types of charges applied on the products in the carnival\n",
    "\n",
    "charges_2 (%) - Represents the types of charges applied on the products in the carnival\n",
    "\n",
    "Minimum_price - Represents the minimum price of a product\n",
    "\n",
    "Maximum_price - Represents the maximum price of a product\n",
    "\n",
    "Selling_Price - Represents the selling price of the product in the carnival\n"
   ]
  },
  {
   "cell_type": "code",
   "execution_count": 1,
   "metadata": {},
   "outputs": [],
   "source": [
    "# importing neccessary libraries\n",
    "import pandas as pd\n",
    "import numpy as np\n",
    "import seaborn as sns\n",
    "import matplotlib.pyplot as plt \n",
    "from scipy import stats"
   ]
  },
  {
   "cell_type": "code",
   "execution_count": 2,
   "metadata": {},
   "outputs": [
    {
     "data": {
      "text/html": [
       "<div>\n",
       "<style scoped>\n",
       "    .dataframe tbody tr th:only-of-type {\n",
       "        vertical-align: middle;\n",
       "    }\n",
       "\n",
       "    .dataframe tbody tr th {\n",
       "        vertical-align: top;\n",
       "    }\n",
       "\n",
       "    .dataframe thead th {\n",
       "        text-align: right;\n",
       "    }\n",
       "</style>\n",
       "<table border=\"1\" class=\"dataframe\">\n",
       "  <thead>\n",
       "    <tr style=\"text-align: right;\">\n",
       "      <th></th>\n",
       "      <th>Product_id</th>\n",
       "      <th>Stall_no</th>\n",
       "      <th>instock_date</th>\n",
       "      <th>Market_Category</th>\n",
       "      <th>Customer_name</th>\n",
       "      <th>Loyalty_customer</th>\n",
       "      <th>Product_Category</th>\n",
       "      <th>Grade</th>\n",
       "      <th>Demand</th>\n",
       "      <th>Discount_avail</th>\n",
       "      <th>charges_1</th>\n",
       "      <th>charges_2 (%)</th>\n",
       "      <th>Minimum_price</th>\n",
       "      <th>Maximum_price</th>\n",
       "      <th>Selling_Price</th>\n",
       "    </tr>\n",
       "  </thead>\n",
       "  <tbody>\n",
       "    <tr>\n",
       "      <td>0</td>\n",
       "      <td>BRAE2NF6JA5GUEXG</td>\n",
       "      <td>37.0</td>\n",
       "      <td>2015-08-22 18:36:12.000</td>\n",
       "      <td>2</td>\n",
       "      <td>Lillyann</td>\n",
       "      <td>Yes</td>\n",
       "      <td>Fashion</td>\n",
       "      <td>1</td>\n",
       "      <td>68</td>\n",
       "      <td>0.0</td>\n",
       "      <td>376.0</td>\n",
       "      <td>11.0</td>\n",
       "      <td>2983.0</td>\n",
       "      <td>4713.0</td>\n",
       "      <td>4185.947700</td>\n",
       "    </tr>\n",
       "    <tr>\n",
       "      <td>1</td>\n",
       "      <td>TUNE8SFB6RJN2HSD</td>\n",
       "      <td>38.0</td>\n",
       "      <td>2016-03-27 21:19:13.000</td>\n",
       "      <td>24</td>\n",
       "      <td>Klynn</td>\n",
       "      <td>Yes</td>\n",
       "      <td>Fashion</td>\n",
       "      <td>0</td>\n",
       "      <td>51</td>\n",
       "      <td>0.0</td>\n",
       "      <td>397.0</td>\n",
       "      <td>12.0</td>\n",
       "      <td>7495.0</td>\n",
       "      <td>10352.0</td>\n",
       "      <td>9271.490256</td>\n",
       "    </tr>\n",
       "    <tr>\n",
       "      <td>2</td>\n",
       "      <td>BRAEAR7WZPQGPBZU</td>\n",
       "      <td>9.0</td>\n",
       "      <td>2015-08-18 19:25:22.000</td>\n",
       "      <td>447</td>\n",
       "      <td>Ridge</td>\n",
       "      <td>Yes</td>\n",
       "      <td>Child_care</td>\n",
       "      <td>0</td>\n",
       "      <td>10</td>\n",
       "      <td>0.0</td>\n",
       "      <td>250.0</td>\n",
       "      <td>9.0</td>\n",
       "      <td>5752.0</td>\n",
       "      <td>7309.0</td>\n",
       "      <td>6785.701362</td>\n",
       "    </tr>\n",
       "    <tr>\n",
       "      <td>3</td>\n",
       "      <td>WATDZ2ZQ8JPDHCTJ</td>\n",
       "      <td>50.0</td>\n",
       "      <td>2016-03-28 21:53:01.000</td>\n",
       "      <td>23</td>\n",
       "      <td>Abran</td>\n",
       "      <td>Yes</td>\n",
       "      <td>Educational</td>\n",
       "      <td>2</td>\n",
       "      <td>48</td>\n",
       "      <td>0.0</td>\n",
       "      <td>144.0</td>\n",
       "      <td>13.0</td>\n",
       "      <td>5090.0</td>\n",
       "      <td>20814.0</td>\n",
       "      <td>13028.917824</td>\n",
       "    </tr>\n",
       "    <tr>\n",
       "      <td>4</td>\n",
       "      <td>JWSEBUKYQPMBZ3RK</td>\n",
       "      <td>7.0</td>\n",
       "      <td>2016-03-29 22:58:53.000</td>\n",
       "      <td>63</td>\n",
       "      <td>Dustyn</td>\n",
       "      <td>Yes</td>\n",
       "      <td>Repair</td>\n",
       "      <td>1</td>\n",
       "      <td>35</td>\n",
       "      <td>1.0</td>\n",
       "      <td>211.0</td>\n",
       "      <td>4.0</td>\n",
       "      <td>2430.0</td>\n",
       "      <td>9261.0</td>\n",
       "      <td>906.553935</td>\n",
       "    </tr>\n",
       "  </tbody>\n",
       "</table>\n",
       "</div>"
      ],
      "text/plain": [
       "         Product_id  Stall_no             instock_date  Market_Category  \\\n",
       "0  BRAE2NF6JA5GUEXG      37.0  2015-08-22 18:36:12.000                2   \n",
       "1  TUNE8SFB6RJN2HSD      38.0  2016-03-27 21:19:13.000               24   \n",
       "2  BRAEAR7WZPQGPBZU       9.0  2015-08-18 19:25:22.000              447   \n",
       "3  WATDZ2ZQ8JPDHCTJ      50.0  2016-03-28 21:53:01.000               23   \n",
       "4  JWSEBUKYQPMBZ3RK       7.0  2016-03-29 22:58:53.000               63   \n",
       "\n",
       "  Customer_name Loyalty_customer Product_Category  Grade  Demand  \\\n",
       "0      Lillyann              Yes          Fashion      1      68   \n",
       "1         Klynn              Yes          Fashion      0      51   \n",
       "2         Ridge              Yes       Child_care      0      10   \n",
       "3         Abran              Yes      Educational      2      48   \n",
       "4        Dustyn              Yes           Repair      1      35   \n",
       "\n",
       "   Discount_avail  charges_1  charges_2 (%)  Minimum_price  Maximum_price  \\\n",
       "0             0.0      376.0           11.0         2983.0         4713.0   \n",
       "1             0.0      397.0           12.0         7495.0        10352.0   \n",
       "2             0.0      250.0            9.0         5752.0         7309.0   \n",
       "3             0.0      144.0           13.0         5090.0        20814.0   \n",
       "4             1.0      211.0            4.0         2430.0         9261.0   \n",
       "\n",
       "   Selling_Price  \n",
       "0    4185.947700  \n",
       "1    9271.490256  \n",
       "2    6785.701362  \n",
       "3   13028.917824  \n",
       "4     906.553935  "
      ]
     },
     "execution_count": 2,
     "metadata": {},
     "output_type": "execute_result"
    }
   ],
   "source": [
    "data = pd.read_csv(\"C:/Users/91899/Desktop/HackerEarth/Carnival_Wars/dataset/train.csv\")\n",
    "data.head()"
   ]
  },
  {
   "cell_type": "code",
   "execution_count": 3,
   "metadata": {},
   "outputs": [
    {
     "data": {
      "text/html": [
       "<div>\n",
       "<style scoped>\n",
       "    .dataframe tbody tr th:only-of-type {\n",
       "        vertical-align: middle;\n",
       "    }\n",
       "\n",
       "    .dataframe tbody tr th {\n",
       "        vertical-align: top;\n",
       "    }\n",
       "\n",
       "    .dataframe thead th {\n",
       "        text-align: right;\n",
       "    }\n",
       "</style>\n",
       "<table border=\"1\" class=\"dataframe\">\n",
       "  <thead>\n",
       "    <tr style=\"text-align: right;\">\n",
       "      <th></th>\n",
       "      <th>Product_id</th>\n",
       "      <th>Stall_no</th>\n",
       "      <th>instock_date</th>\n",
       "      <th>Market_Category</th>\n",
       "      <th>Customer_name</th>\n",
       "      <th>Loyalty_customer</th>\n",
       "      <th>Product_Category</th>\n",
       "      <th>Grade</th>\n",
       "      <th>Demand</th>\n",
       "      <th>Discount_avail</th>\n",
       "      <th>charges_1</th>\n",
       "      <th>charges_2 (%)</th>\n",
       "      <th>Minimum_price</th>\n",
       "      <th>Maximum_price</th>\n",
       "    </tr>\n",
       "  </thead>\n",
       "  <tbody>\n",
       "    <tr>\n",
       "      <td>0</td>\n",
       "      <td>SCHE4YSTDVPVZVXW</td>\n",
       "      <td>39.0</td>\n",
       "      <td>2016-01-13 07:45:08.000</td>\n",
       "      <td>205</td>\n",
       "      <td>Ivanka</td>\n",
       "      <td>No</td>\n",
       "      <td>Fashion</td>\n",
       "      <td>0</td>\n",
       "      <td>90</td>\n",
       "      <td>0</td>\n",
       "      <td>380.0</td>\n",
       "      <td>16.0</td>\n",
       "      <td>2576.0</td>\n",
       "      <td>3340</td>\n",
       "    </tr>\n",
       "    <tr>\n",
       "      <td>1</td>\n",
       "      <td>ACCEGCATKHNRXUHW</td>\n",
       "      <td>49.0</td>\n",
       "      <td>2015-08-23 20:37:05.000</td>\n",
       "      <td>3</td>\n",
       "      <td>Isaak</td>\n",
       "      <td>Yes</td>\n",
       "      <td>Fashion</td>\n",
       "      <td>0</td>\n",
       "      <td>87</td>\n",
       "      <td>0</td>\n",
       "      <td>393.0</td>\n",
       "      <td>16.0</td>\n",
       "      <td>1202.0</td>\n",
       "      <td>1955</td>\n",
       "    </tr>\n",
       "    <tr>\n",
       "      <td>2</td>\n",
       "      <td>NKCE6GJ5XVJDXNNZ</td>\n",
       "      <td>1.0</td>\n",
       "      <td>2015-11-14 18:12:39.000</td>\n",
       "      <td>183</td>\n",
       "      <td>Analiese</td>\n",
       "      <td>No</td>\n",
       "      <td>Technology</td>\n",
       "      <td>2</td>\n",
       "      <td>55</td>\n",
       "      <td>0</td>\n",
       "      <td>493.0</td>\n",
       "      <td>9.0</td>\n",
       "      <td>7175.0</td>\n",
       "      <td>15715</td>\n",
       "    </tr>\n",
       "    <tr>\n",
       "      <td>3</td>\n",
       "      <td>NKCEB8BK3ZXDHDHM</td>\n",
       "      <td>8.0</td>\n",
       "      <td>2015-11-21 04:56:19.000</td>\n",
       "      <td>358</td>\n",
       "      <td>Rusty</td>\n",
       "      <td>Yes</td>\n",
       "      <td>Child_care</td>\n",
       "      <td>3</td>\n",
       "      <td>86</td>\n",
       "      <td>0</td>\n",
       "      <td>303.0</td>\n",
       "      <td>16.0</td>\n",
       "      <td>5404.0</td>\n",
       "      <td>13078</td>\n",
       "    </tr>\n",
       "    <tr>\n",
       "      <td>4</td>\n",
       "      <td>TOPEFDXSAHRNPF94</td>\n",
       "      <td>33.0</td>\n",
       "      <td>2015-05-06 15:09:46.000</td>\n",
       "      <td>167</td>\n",
       "      <td>Eloise</td>\n",
       "      <td>No</td>\n",
       "      <td>Technology</td>\n",
       "      <td>0</td>\n",
       "      <td>27</td>\n",
       "      <td>0</td>\n",
       "      <td>567.0</td>\n",
       "      <td>16.0</td>\n",
       "      <td>4069.0</td>\n",
       "      <td>6244</td>\n",
       "    </tr>\n",
       "  </tbody>\n",
       "</table>\n",
       "</div>"
      ],
      "text/plain": [
       "         Product_id  Stall_no             instock_date  Market_Category  \\\n",
       "0  SCHE4YSTDVPVZVXW      39.0  2016-01-13 07:45:08.000              205   \n",
       "1  ACCEGCATKHNRXUHW      49.0  2015-08-23 20:37:05.000                3   \n",
       "2  NKCE6GJ5XVJDXNNZ       1.0  2015-11-14 18:12:39.000              183   \n",
       "3  NKCEB8BK3ZXDHDHM       8.0  2015-11-21 04:56:19.000              358   \n",
       "4  TOPEFDXSAHRNPF94      33.0  2015-05-06 15:09:46.000              167   \n",
       "\n",
       "  Customer_name Loyalty_customer Product_Category  Grade  Demand  \\\n",
       "0        Ivanka              No           Fashion      0      90   \n",
       "1         Isaak              Yes          Fashion      0      87   \n",
       "2      Analiese              No        Technology      2      55   \n",
       "3         Rusty              Yes       Child_care      3      86   \n",
       "4        Eloise              No        Technology      0      27   \n",
       "\n",
       "   Discount_avail  charges_1  charges_2 (%)  Minimum_price  Maximum_price  \n",
       "0               0      380.0           16.0         2576.0           3340  \n",
       "1               0      393.0           16.0         1202.0           1955  \n",
       "2               0      493.0            9.0         7175.0          15715  \n",
       "3               0      303.0           16.0         5404.0          13078  \n",
       "4               0      567.0           16.0         4069.0           6244  "
      ]
     },
     "execution_count": 3,
     "metadata": {},
     "output_type": "execute_result"
    }
   ],
   "source": [
    "test = pd.read_csv(\"C:/Users/91899/Desktop/HackerEarth/Carnival_Wars/dataset/test.csv\")\n",
    "test.head()"
   ]
  },
  {
   "cell_type": "code",
   "execution_count": 4,
   "metadata": {},
   "outputs": [
    {
     "data": {
      "text/plain": [
       "(3430, 14)"
      ]
     },
     "execution_count": 4,
     "metadata": {},
     "output_type": "execute_result"
    }
   ],
   "source": [
    "test.shape"
   ]
  },
  {
   "cell_type": "code",
   "execution_count": 5,
   "metadata": {},
   "outputs": [
    {
     "data": {
      "text/plain": [
       "(6368, 15)"
      ]
     },
     "execution_count": 5,
     "metadata": {},
     "output_type": "execute_result"
    }
   ],
   "source": [
    "data.shape"
   ]
  },
  {
   "cell_type": "code",
   "execution_count": 6,
   "metadata": {},
   "outputs": [
    {
     "name": "stdout",
     "output_type": "stream",
     "text": [
      "<class 'pandas.core.frame.DataFrame'>\n",
      "RangeIndex: 6368 entries, 0 to 6367\n",
      "Data columns (total 15 columns):\n",
      "Product_id          6368 non-null object\n",
      "Stall_no            6363 non-null float64\n",
      "instock_date        6368 non-null object\n",
      "Market_Category     6368 non-null int64\n",
      "Customer_name       6157 non-null object\n",
      "Loyalty_customer    6368 non-null object\n",
      "Product_Category    6368 non-null object\n",
      "Grade               6368 non-null int64\n",
      "Demand              6368 non-null int64\n",
      "Discount_avail      6330 non-null float64\n",
      "charges_1           6170 non-null float64\n",
      "charges_2 (%)       6163 non-null float64\n",
      "Minimum_price       6330 non-null float64\n",
      "Maximum_price       6025 non-null float64\n",
      "Selling_Price       6327 non-null float64\n",
      "dtypes: float64(7), int64(3), object(5)\n",
      "memory usage: 746.4+ KB\n"
     ]
    }
   ],
   "source": [
    "data.info()"
   ]
  },
  {
   "cell_type": "code",
   "execution_count": 7,
   "metadata": {},
   "outputs": [
    {
     "data": {
      "text/html": [
       "<div>\n",
       "<style scoped>\n",
       "    .dataframe tbody tr th:only-of-type {\n",
       "        vertical-align: middle;\n",
       "    }\n",
       "\n",
       "    .dataframe tbody tr th {\n",
       "        vertical-align: top;\n",
       "    }\n",
       "\n",
       "    .dataframe thead th {\n",
       "        text-align: right;\n",
       "    }\n",
       "</style>\n",
       "<table border=\"1\" class=\"dataframe\">\n",
       "  <thead>\n",
       "    <tr style=\"text-align: right;\">\n",
       "      <th></th>\n",
       "      <th>Stall_no</th>\n",
       "      <th>Market_Category</th>\n",
       "      <th>Grade</th>\n",
       "      <th>Demand</th>\n",
       "      <th>Discount_avail</th>\n",
       "      <th>charges_1</th>\n",
       "      <th>charges_2 (%)</th>\n",
       "      <th>Minimum_price</th>\n",
       "      <th>Maximum_price</th>\n",
       "      <th>Selling_Price</th>\n",
       "    </tr>\n",
       "  </thead>\n",
       "  <tbody>\n",
       "    <tr>\n",
       "      <td>count</td>\n",
       "      <td>6363.000000</td>\n",
       "      <td>6368.000000</td>\n",
       "      <td>6368.000000</td>\n",
       "      <td>6368.000000</td>\n",
       "      <td>6330.000000</td>\n",
       "      <td>6170.000000</td>\n",
       "      <td>6163.000000</td>\n",
       "      <td>6330.000000</td>\n",
       "      <td>6025.000000</td>\n",
       "      <td>6327.000000</td>\n",
       "    </tr>\n",
       "    <tr>\n",
       "      <td>mean</td>\n",
       "      <td>25.309445</td>\n",
       "      <td>199.340609</td>\n",
       "      <td>0.643687</td>\n",
       "      <td>50.921168</td>\n",
       "      <td>0.140442</td>\n",
       "      <td>264.514100</td>\n",
       "      <td>10.146195</td>\n",
       "      <td>3531.349763</td>\n",
       "      <td>6432.545892</td>\n",
       "      <td>4563.242592</td>\n",
       "    </tr>\n",
       "    <tr>\n",
       "      <td>std</td>\n",
       "      <td>14.328980</td>\n",
       "      <td>170.275570</td>\n",
       "      <td>1.025092</td>\n",
       "      <td>29.091922</td>\n",
       "      <td>0.347473</td>\n",
       "      <td>124.483056</td>\n",
       "      <td>4.318339</td>\n",
       "      <td>2194.729604</td>\n",
       "      <td>3716.177364</td>\n",
       "      <td>2979.102408</td>\n",
       "    </tr>\n",
       "    <tr>\n",
       "      <td>min</td>\n",
       "      <td>1.000000</td>\n",
       "      <td>0.000000</td>\n",
       "      <td>0.000000</td>\n",
       "      <td>1.000000</td>\n",
       "      <td>0.000000</td>\n",
       "      <td>100.000000</td>\n",
       "      <td>1.000000</td>\n",
       "      <td>1.000000</td>\n",
       "      <td>404.000000</td>\n",
       "      <td>-6062.470000</td>\n",
       "    </tr>\n",
       "    <tr>\n",
       "      <td>25%</td>\n",
       "      <td>13.000000</td>\n",
       "      <td>55.000000</td>\n",
       "      <td>0.000000</td>\n",
       "      <td>26.000000</td>\n",
       "      <td>0.000000</td>\n",
       "      <td>163.000000</td>\n",
       "      <td>7.000000</td>\n",
       "      <td>1879.250000</td>\n",
       "      <td>3918.000000</td>\n",
       "      <td>2450.005280</td>\n",
       "    </tr>\n",
       "    <tr>\n",
       "      <td>50%</td>\n",
       "      <td>25.000000</td>\n",
       "      <td>132.000000</td>\n",
       "      <td>0.000000</td>\n",
       "      <td>51.000000</td>\n",
       "      <td>0.000000</td>\n",
       "      <td>252.000000</td>\n",
       "      <td>10.000000</td>\n",
       "      <td>3157.500000</td>\n",
       "      <td>5634.000000</td>\n",
       "      <td>4210.384640</td>\n",
       "    </tr>\n",
       "    <tr>\n",
       "      <td>75%</td>\n",
       "      <td>37.000000</td>\n",
       "      <td>403.000000</td>\n",
       "      <td>2.000000</td>\n",
       "      <td>76.000000</td>\n",
       "      <td>0.000000</td>\n",
       "      <td>314.000000</td>\n",
       "      <td>14.000000</td>\n",
       "      <td>4697.000000</td>\n",
       "      <td>8126.000000</td>\n",
       "      <td>6167.643252</td>\n",
       "    </tr>\n",
       "    <tr>\n",
       "      <td>max</td>\n",
       "      <td>50.000000</td>\n",
       "      <td>471.000000</td>\n",
       "      <td>3.000000</td>\n",
       "      <td>100.000000</td>\n",
       "      <td>1.000000</td>\n",
       "      <td>649.000000</td>\n",
       "      <td>17.000000</td>\n",
       "      <td>17580.000000</td>\n",
       "      <td>58812.000000</td>\n",
       "      <td>22638.325941</td>\n",
       "    </tr>\n",
       "  </tbody>\n",
       "</table>\n",
       "</div>"
      ],
      "text/plain": [
       "          Stall_no  Market_Category        Grade       Demand  Discount_avail  \\\n",
       "count  6363.000000      6368.000000  6368.000000  6368.000000     6330.000000   \n",
       "mean     25.309445       199.340609     0.643687    50.921168        0.140442   \n",
       "std      14.328980       170.275570     1.025092    29.091922        0.347473   \n",
       "min       1.000000         0.000000     0.000000     1.000000        0.000000   \n",
       "25%      13.000000        55.000000     0.000000    26.000000        0.000000   \n",
       "50%      25.000000       132.000000     0.000000    51.000000        0.000000   \n",
       "75%      37.000000       403.000000     2.000000    76.000000        0.000000   \n",
       "max      50.000000       471.000000     3.000000   100.000000        1.000000   \n",
       "\n",
       "         charges_1  charges_2 (%)  Minimum_price  Maximum_price  Selling_Price  \n",
       "count  6170.000000    6163.000000    6330.000000    6025.000000    6327.000000  \n",
       "mean    264.514100      10.146195    3531.349763    6432.545892    4563.242592  \n",
       "std     124.483056       4.318339    2194.729604    3716.177364    2979.102408  \n",
       "min     100.000000       1.000000       1.000000     404.000000   -6062.470000  \n",
       "25%     163.000000       7.000000    1879.250000    3918.000000    2450.005280  \n",
       "50%     252.000000      10.000000    3157.500000    5634.000000    4210.384640  \n",
       "75%     314.000000      14.000000    4697.000000    8126.000000    6167.643252  \n",
       "max     649.000000      17.000000   17580.000000   58812.000000   22638.325941  "
      ]
     },
     "execution_count": 7,
     "metadata": {},
     "output_type": "execute_result"
    }
   ],
   "source": [
    "data.describe()"
   ]
  },
  {
   "cell_type": "markdown",
   "metadata": {},
   "source": [
    "#### Hear we can see the Selling price is having min value negative."
   ]
  },
  {
   "cell_type": "markdown",
   "metadata": {},
   "source": [
    "# Handling Null values"
   ]
  },
  {
   "cell_type": "code",
   "execution_count": 8,
   "metadata": {},
   "outputs": [
    {
     "data": {
      "text/plain": [
       "Product_id            0\n",
       "Stall_no              5\n",
       "instock_date          0\n",
       "Market_Category       0\n",
       "Customer_name       211\n",
       "Loyalty_customer      0\n",
       "Product_Category      0\n",
       "Grade                 0\n",
       "Demand                0\n",
       "Discount_avail       38\n",
       "charges_1           198\n",
       "charges_2 (%)       205\n",
       "Minimum_price        38\n",
       "Maximum_price       343\n",
       "Selling_Price        41\n",
       "dtype: int64"
      ]
     },
     "execution_count": 8,
     "metadata": {},
     "output_type": "execute_result"
    }
   ],
   "source": [
    "# let see nan value present in the data\n",
    "data.isnull().sum()"
   ]
  },
  {
   "cell_type": "code",
   "execution_count": 9,
   "metadata": {},
   "outputs": [],
   "source": [
    "# Dropping Customer_name column as it has not useful for prediction\n",
    "data.drop('Customer_name', axis = 1, inplace =True)"
   ]
  },
  {
   "cell_type": "code",
   "execution_count": 10,
   "metadata": {},
   "outputs": [],
   "source": [
    "# Dropping Customer_name column as it has not useful for prediction\n",
    "test.drop('Customer_name', axis = 1, inplace =True)"
   ]
  },
  {
   "cell_type": "code",
   "execution_count": 11,
   "metadata": {},
   "outputs": [
    {
     "data": {
      "text/plain": [
       "0.0    5441\n",
       "1.0     889\n",
       "Name: Discount_avail, dtype: int64"
      ]
     },
     "execution_count": 11,
     "metadata": {},
     "output_type": "execute_result"
    }
   ],
   "source": [
    "data['Discount_avail'].value_counts()"
   ]
  },
  {
   "cell_type": "code",
   "execution_count": 12,
   "metadata": {},
   "outputs": [
    {
     "data": {
      "text/plain": [
       "38"
      ]
     },
     "execution_count": 12,
     "metadata": {},
     "output_type": "execute_result"
    }
   ],
   "source": [
    "data['Discount_avail'].isna().sum()"
   ]
  },
  {
   "cell_type": "code",
   "execution_count": null,
   "metadata": {},
   "outputs": [],
   "source": []
  },
  {
   "cell_type": "code",
   "execution_count": 13,
   "metadata": {},
   "outputs": [],
   "source": [
    "data['Discount_avail'].fillna(0, inplace = True)"
   ]
  },
  {
   "cell_type": "code",
   "execution_count": 14,
   "metadata": {},
   "outputs": [],
   "source": [
    "data['Discount_avail'] = data['Discount_avail'].replace({ 0.0 : 'No', 0 : 'No', 1.0:'Yes'})"
   ]
  },
  {
   "cell_type": "code",
   "execution_count": 15,
   "metadata": {},
   "outputs": [
    {
     "data": {
      "text/plain": [
       "No     5479\n",
       "Yes     889\n",
       "Name: Discount_avail, dtype: int64"
      ]
     },
     "execution_count": 15,
     "metadata": {},
     "output_type": "execute_result"
    }
   ],
   "source": [
    "data['Discount_avail'].value_counts()"
   ]
  },
  {
   "cell_type": "code",
   "execution_count": 16,
   "metadata": {},
   "outputs": [],
   "source": [
    "# Selling price can't be negative and null so I have replaced less than 0 values with minimum price\n",
    "data['Selling_Price'] = data['Selling_Price'].fillna(data['Minimum_price'])"
   ]
  },
  {
   "cell_type": "code",
   "execution_count": 17,
   "metadata": {},
   "outputs": [],
   "source": [
    "data['Stall_no'] = data['Stall_no'].fillna(0)"
   ]
  },
  {
   "cell_type": "code",
   "execution_count": 18,
   "metadata": {},
   "outputs": [],
   "source": [
    "test['Stall_no'].isna().sum()\n",
    "test['Stall_no'] = test['Stall_no'].fillna(0)"
   ]
  },
  {
   "cell_type": "code",
   "execution_count": 19,
   "metadata": {},
   "outputs": [
    {
     "data": {
      "text/html": [
       "<div>\n",
       "<style scoped>\n",
       "    .dataframe tbody tr th:only-of-type {\n",
       "        vertical-align: middle;\n",
       "    }\n",
       "\n",
       "    .dataframe tbody tr th {\n",
       "        vertical-align: top;\n",
       "    }\n",
       "\n",
       "    .dataframe thead th {\n",
       "        text-align: right;\n",
       "    }\n",
       "</style>\n",
       "<table border=\"1\" class=\"dataframe\">\n",
       "  <thead>\n",
       "    <tr style=\"text-align: right;\">\n",
       "      <th></th>\n",
       "      <th>Product_id</th>\n",
       "      <th>Stall_no</th>\n",
       "      <th>instock_date</th>\n",
       "      <th>Market_Category</th>\n",
       "      <th>Loyalty_customer</th>\n",
       "      <th>Product_Category</th>\n",
       "      <th>Grade</th>\n",
       "      <th>Demand</th>\n",
       "      <th>Discount_avail</th>\n",
       "      <th>charges_1</th>\n",
       "      <th>charges_2 (%)</th>\n",
       "      <th>Minimum_price</th>\n",
       "      <th>Maximum_price</th>\n",
       "      <th>Selling_Price</th>\n",
       "    </tr>\n",
       "  </thead>\n",
       "  <tbody>\n",
       "    <tr>\n",
       "      <td>16</td>\n",
       "      <td>SHIEBKMSYJFA9XZT</td>\n",
       "      <td>14.0</td>\n",
       "      <td>2015-09-24 16:28:03.000</td>\n",
       "      <td>1</td>\n",
       "      <td>No</td>\n",
       "      <td>Fashion</td>\n",
       "      <td>0</td>\n",
       "      <td>74</td>\n",
       "      <td>No</td>\n",
       "      <td>NaN</td>\n",
       "      <td>11.0</td>\n",
       "      <td>786.0</td>\n",
       "      <td>NaN</td>\n",
       "      <td>2582.860500</td>\n",
       "    </tr>\n",
       "    <tr>\n",
       "      <td>36</td>\n",
       "      <td>NKCE5T3GVHYKZSDH</td>\n",
       "      <td>5.0</td>\n",
       "      <td>2015-11-19 03:54:47.000</td>\n",
       "      <td>14</td>\n",
       "      <td>Yes</td>\n",
       "      <td>Child_care</td>\n",
       "      <td>0</td>\n",
       "      <td>61</td>\n",
       "      <td>No</td>\n",
       "      <td>323.0</td>\n",
       "      <td>14.0</td>\n",
       "      <td>5682.0</td>\n",
       "      <td>NaN</td>\n",
       "      <td>7056.729900</td>\n",
       "    </tr>\n",
       "    <tr>\n",
       "      <td>77</td>\n",
       "      <td>CRTECN2QXXNYW7QY</td>\n",
       "      <td>12.0</td>\n",
       "      <td>2015-09-23 16:25:12.000</td>\n",
       "      <td>3</td>\n",
       "      <td>Yes</td>\n",
       "      <td>Fashion</td>\n",
       "      <td>0</td>\n",
       "      <td>32</td>\n",
       "      <td>No</td>\n",
       "      <td>369.0</td>\n",
       "      <td>14.0</td>\n",
       "      <td>1247.0</td>\n",
       "      <td>NaN</td>\n",
       "      <td>2632.572075</td>\n",
       "    </tr>\n",
       "    <tr>\n",
       "      <td>87</td>\n",
       "      <td>RTRE9WHYCSYHZKDM</td>\n",
       "      <td>19.0</td>\n",
       "      <td>2015-11-20 03:56:39.000</td>\n",
       "      <td>24</td>\n",
       "      <td>No</td>\n",
       "      <td>Pet_care</td>\n",
       "      <td>0</td>\n",
       "      <td>75</td>\n",
       "      <td>No</td>\n",
       "      <td>104.0</td>\n",
       "      <td>9.0</td>\n",
       "      <td>8262.0</td>\n",
       "      <td>NaN</td>\n",
       "      <td>9766.132200</td>\n",
       "    </tr>\n",
       "    <tr>\n",
       "      <td>106</td>\n",
       "      <td>MUGEACY8DDVJ8QAD</td>\n",
       "      <td>30.0</td>\n",
       "      <td>2015-09-22 17:22:59.000</td>\n",
       "      <td>451</td>\n",
       "      <td>Yes</td>\n",
       "      <td>Fashion</td>\n",
       "      <td>0</td>\n",
       "      <td>53</td>\n",
       "      <td>No</td>\n",
       "      <td>NaN</td>\n",
       "      <td>17.0</td>\n",
       "      <td>4627.0</td>\n",
       "      <td>NaN</td>\n",
       "      <td>5512.304016</td>\n",
       "    </tr>\n",
       "    <tr>\n",
       "      <td>...</td>\n",
       "      <td>...</td>\n",
       "      <td>...</td>\n",
       "      <td>...</td>\n",
       "      <td>...</td>\n",
       "      <td>...</td>\n",
       "      <td>...</td>\n",
       "      <td>...</td>\n",
       "      <td>...</td>\n",
       "      <td>...</td>\n",
       "      <td>...</td>\n",
       "      <td>...</td>\n",
       "      <td>...</td>\n",
       "      <td>...</td>\n",
       "      <td>...</td>\n",
       "    </tr>\n",
       "    <tr>\n",
       "      <td>6296</td>\n",
       "      <td>SHIEB85ZRAUWMFTT</td>\n",
       "      <td>34.0</td>\n",
       "      <td>2015-08-15 21:24:25.000</td>\n",
       "      <td>114</td>\n",
       "      <td>Yes</td>\n",
       "      <td>Hospitality</td>\n",
       "      <td>0</td>\n",
       "      <td>96</td>\n",
       "      <td>No</td>\n",
       "      <td>297.0</td>\n",
       "      <td>5.0</td>\n",
       "      <td>1377.0</td>\n",
       "      <td>NaN</td>\n",
       "      <td>2215.609088</td>\n",
       "    </tr>\n",
       "    <tr>\n",
       "      <td>6325</td>\n",
       "      <td>SHIEHGXG5PNH2HEF</td>\n",
       "      <td>27.0</td>\n",
       "      <td>2015-08-15 23:08:18.000</td>\n",
       "      <td>449</td>\n",
       "      <td>Yes</td>\n",
       "      <td>Fashion</td>\n",
       "      <td>0</td>\n",
       "      <td>60</td>\n",
       "      <td>Yes</td>\n",
       "      <td>386.0</td>\n",
       "      <td>12.0</td>\n",
       "      <td>5413.0</td>\n",
       "      <td>NaN</td>\n",
       "      <td>1004.197969</td>\n",
       "    </tr>\n",
       "    <tr>\n",
       "      <td>6331</td>\n",
       "      <td>BRAEDNX2NKMJFZ74</td>\n",
       "      <td>46.0</td>\n",
       "      <td>2015-08-19 19:14:10.000</td>\n",
       "      <td>99</td>\n",
       "      <td>Yes</td>\n",
       "      <td>Fashion</td>\n",
       "      <td>0</td>\n",
       "      <td>43</td>\n",
       "      <td>No</td>\n",
       "      <td>375.0</td>\n",
       "      <td>NaN</td>\n",
       "      <td>579.0</td>\n",
       "      <td>NaN</td>\n",
       "      <td>1716.066432</td>\n",
       "    </tr>\n",
       "    <tr>\n",
       "      <td>6355</td>\n",
       "      <td>BRAEBUHTTCZKDPTC</td>\n",
       "      <td>20.0</td>\n",
       "      <td>2015-08-20 02:32:24.000</td>\n",
       "      <td>65</td>\n",
       "      <td>No</td>\n",
       "      <td>Technology</td>\n",
       "      <td>0</td>\n",
       "      <td>81</td>\n",
       "      <td>No</td>\n",
       "      <td>564.0</td>\n",
       "      <td>16.0</td>\n",
       "      <td>3669.0</td>\n",
       "      <td>NaN</td>\n",
       "      <td>5165.500032</td>\n",
       "    </tr>\n",
       "    <tr>\n",
       "      <td>6356</td>\n",
       "      <td>TOPDYAZZNRQMQABE</td>\n",
       "      <td>48.0</td>\n",
       "      <td>2015-08-23 18:48:47.000</td>\n",
       "      <td>68</td>\n",
       "      <td>No</td>\n",
       "      <td>Technology</td>\n",
       "      <td>2</td>\n",
       "      <td>13</td>\n",
       "      <td>No</td>\n",
       "      <td>640.0</td>\n",
       "      <td>12.0</td>\n",
       "      <td>910.0</td>\n",
       "      <td>NaN</td>\n",
       "      <td>2846.355336</td>\n",
       "    </tr>\n",
       "  </tbody>\n",
       "</table>\n",
       "<p>343 rows × 14 columns</p>\n",
       "</div>"
      ],
      "text/plain": [
       "            Product_id  Stall_no             instock_date  Market_Category  \\\n",
       "16    SHIEBKMSYJFA9XZT      14.0  2015-09-24 16:28:03.000                1   \n",
       "36    NKCE5T3GVHYKZSDH       5.0  2015-11-19 03:54:47.000               14   \n",
       "77    CRTECN2QXXNYW7QY      12.0  2015-09-23 16:25:12.000                3   \n",
       "87    RTRE9WHYCSYHZKDM      19.0  2015-11-20 03:56:39.000               24   \n",
       "106   MUGEACY8DDVJ8QAD      30.0  2015-09-22 17:22:59.000              451   \n",
       "...                ...       ...                      ...              ...   \n",
       "6296  SHIEB85ZRAUWMFTT      34.0  2015-08-15 21:24:25.000              114   \n",
       "6325  SHIEHGXG5PNH2HEF      27.0  2015-08-15 23:08:18.000              449   \n",
       "6331  BRAEDNX2NKMJFZ74      46.0  2015-08-19 19:14:10.000               99   \n",
       "6355  BRAEBUHTTCZKDPTC      20.0  2015-08-20 02:32:24.000               65   \n",
       "6356  TOPDYAZZNRQMQABE      48.0  2015-08-23 18:48:47.000               68   \n",
       "\n",
       "     Loyalty_customer Product_Category  Grade  Demand Discount_avail  \\\n",
       "16                No           Fashion      0      74             No   \n",
       "36                Yes       Child_care      0      61             No   \n",
       "77                Yes          Fashion      0      32             No   \n",
       "87                No          Pet_care      0      75             No   \n",
       "106               Yes          Fashion      0      53             No   \n",
       "...               ...              ...    ...     ...            ...   \n",
       "6296              Yes      Hospitality      0      96             No   \n",
       "6325              Yes          Fashion      0      60            Yes   \n",
       "6331              Yes          Fashion      0      43             No   \n",
       "6355              No        Technology      0      81             No   \n",
       "6356              No        Technology      2      13             No   \n",
       "\n",
       "      charges_1  charges_2 (%)  Minimum_price  Maximum_price  Selling_Price  \n",
       "16          NaN           11.0          786.0            NaN    2582.860500  \n",
       "36        323.0           14.0         5682.0            NaN    7056.729900  \n",
       "77        369.0           14.0         1247.0            NaN    2632.572075  \n",
       "87        104.0            9.0         8262.0            NaN    9766.132200  \n",
       "106         NaN           17.0         4627.0            NaN    5512.304016  \n",
       "...         ...            ...            ...            ...            ...  \n",
       "6296      297.0            5.0         1377.0            NaN    2215.609088  \n",
       "6325      386.0           12.0         5413.0            NaN    1004.197969  \n",
       "6331      375.0            NaN          579.0            NaN    1716.066432  \n",
       "6355      564.0           16.0         3669.0            NaN    5165.500032  \n",
       "6356      640.0           12.0          910.0            NaN    2846.355336  \n",
       "\n",
       "[343 rows x 14 columns]"
      ]
     },
     "execution_count": 19,
     "metadata": {},
     "output_type": "execute_result"
    }
   ],
   "source": [
    "# lets check the nan values which are in the maximum_price feature\n",
    "data[data['Maximum_price'].isna()]"
   ]
  },
  {
   "cell_type": "code",
   "execution_count": 20,
   "metadata": {},
   "outputs": [],
   "source": [
    "# Here filling the Maximum price by using Minimum_price, charges1 and charges2\n",
    "data['Maximum_price'] = data['Maximum_price'].fillna((data['Minimum_price'] + data['charges_1'])*(data['charges_2 (%)']/100))"
   ]
  },
  {
   "cell_type": "code",
   "execution_count": 21,
   "metadata": {},
   "outputs": [],
   "source": [
    "# Dropping 48 rows cause it collides with other feature NaN values.\n",
    "data.drop(data[data['Maximum_price'].isnull()].index, axis = 0, inplace = True)"
   ]
  },
  {
   "cell_type": "code",
   "execution_count": 22,
   "metadata": {},
   "outputs": [
    {
     "data": {
      "text/html": [
       "<div>\n",
       "<style scoped>\n",
       "    .dataframe tbody tr th:only-of-type {\n",
       "        vertical-align: middle;\n",
       "    }\n",
       "\n",
       "    .dataframe tbody tr th {\n",
       "        vertical-align: top;\n",
       "    }\n",
       "\n",
       "    .dataframe thead th {\n",
       "        text-align: right;\n",
       "    }\n",
       "</style>\n",
       "<table border=\"1\" class=\"dataframe\">\n",
       "  <thead>\n",
       "    <tr style=\"text-align: right;\">\n",
       "      <th></th>\n",
       "      <th>Product_id</th>\n",
       "      <th>Stall_no</th>\n",
       "      <th>instock_date</th>\n",
       "      <th>Market_Category</th>\n",
       "      <th>Loyalty_customer</th>\n",
       "      <th>Product_Category</th>\n",
       "      <th>Grade</th>\n",
       "      <th>Demand</th>\n",
       "      <th>Discount_avail</th>\n",
       "      <th>charges_1</th>\n",
       "      <th>charges_2 (%)</th>\n",
       "      <th>Minimum_price</th>\n",
       "      <th>Maximum_price</th>\n",
       "      <th>Selling_Price</th>\n",
       "    </tr>\n",
       "  </thead>\n",
       "  <tbody>\n",
       "    <tr>\n",
       "      <td>76</td>\n",
       "      <td>ACCEHZF95ZRCKACD</td>\n",
       "      <td>7.0</td>\n",
       "      <td>2015-05-09 17:19:45.000</td>\n",
       "      <td>358</td>\n",
       "      <td>Yes</td>\n",
       "      <td>Cosmetics</td>\n",
       "      <td>3</td>\n",
       "      <td>31</td>\n",
       "      <td>No</td>\n",
       "      <td>NaN</td>\n",
       "      <td>NaN</td>\n",
       "      <td>9483.0</td>\n",
       "      <td>13644.0</td>\n",
       "      <td>11761.213275</td>\n",
       "    </tr>\n",
       "    <tr>\n",
       "      <td>760</td>\n",
       "      <td>BRAEDNFGGHAFHEY4</td>\n",
       "      <td>7.0</td>\n",
       "      <td>2015-08-19 02:31:36.000</td>\n",
       "      <td>23</td>\n",
       "      <td>No</td>\n",
       "      <td>Organic</td>\n",
       "      <td>2</td>\n",
       "      <td>51</td>\n",
       "      <td>No</td>\n",
       "      <td>NaN</td>\n",
       "      <td>NaN</td>\n",
       "      <td>1806.0</td>\n",
       "      <td>5555.0</td>\n",
       "      <td>3759.126624</td>\n",
       "    </tr>\n",
       "    <tr>\n",
       "      <td>1691</td>\n",
       "      <td>DREEGWW9DMTGZDZZ</td>\n",
       "      <td>27.0</td>\n",
       "      <td>2015-11-13 15:06:18.000</td>\n",
       "      <td>188</td>\n",
       "      <td>Yes</td>\n",
       "      <td>Hospitality</td>\n",
       "      <td>0</td>\n",
       "      <td>20</td>\n",
       "      <td>No</td>\n",
       "      <td>NaN</td>\n",
       "      <td>NaN</td>\n",
       "      <td>3098.0</td>\n",
       "      <td>4201.0</td>\n",
       "      <td>3893.001275</td>\n",
       "    </tr>\n",
       "    <tr>\n",
       "      <td>1835</td>\n",
       "      <td>BRAEBUHXKDBWRMCK</td>\n",
       "      <td>1.0</td>\n",
       "      <td>2015-08-20 20:48:14.000</td>\n",
       "      <td>23</td>\n",
       "      <td>No</td>\n",
       "      <td>Child_care</td>\n",
       "      <td>1</td>\n",
       "      <td>44</td>\n",
       "      <td>No</td>\n",
       "      <td>NaN</td>\n",
       "      <td>NaN</td>\n",
       "      <td>2433.0</td>\n",
       "      <td>3583.0</td>\n",
       "      <td>3278.293776</td>\n",
       "    </tr>\n",
       "    <tr>\n",
       "      <td>2096</td>\n",
       "      <td>SHIECMGF5WTA2WGG</td>\n",
       "      <td>38.0</td>\n",
       "      <td>2015-09-26 14:18:31.000</td>\n",
       "      <td>57</td>\n",
       "      <td>Yes</td>\n",
       "      <td>Fashion</td>\n",
       "      <td>0</td>\n",
       "      <td>24</td>\n",
       "      <td>No</td>\n",
       "      <td>NaN</td>\n",
       "      <td>NaN</td>\n",
       "      <td>2479.0</td>\n",
       "      <td>5151.0</td>\n",
       "      <td>4177.111050</td>\n",
       "    </tr>\n",
       "    <tr>\n",
       "      <td>2906</td>\n",
       "      <td>HACEJXFJZ5HSR8QT</td>\n",
       "      <td>3.0</td>\n",
       "      <td>2015-09-22 13:24:08.000</td>\n",
       "      <td>58</td>\n",
       "      <td>No</td>\n",
       "      <td>Repair</td>\n",
       "      <td>0</td>\n",
       "      <td>91</td>\n",
       "      <td>No</td>\n",
       "      <td>NaN</td>\n",
       "      <td>NaN</td>\n",
       "      <td>3239.0</td>\n",
       "      <td>4779.0</td>\n",
       "      <td>4239.666816</td>\n",
       "    </tr>\n",
       "    <tr>\n",
       "      <td>3194</td>\n",
       "      <td>NKCE7MMGPAKN8CMJ</td>\n",
       "      <td>30.0</td>\n",
       "      <td>2015-10-20 02:34:52.000</td>\n",
       "      <td>113</td>\n",
       "      <td>No</td>\n",
       "      <td>Educational</td>\n",
       "      <td>0</td>\n",
       "      <td>34</td>\n",
       "      <td>No</td>\n",
       "      <td>NaN</td>\n",
       "      <td>NaN</td>\n",
       "      <td>2009.0</td>\n",
       "      <td>5656.0</td>\n",
       "      <td>3937.850700</td>\n",
       "    </tr>\n",
       "    <tr>\n",
       "      <td>4902</td>\n",
       "      <td>BRAE6Z79SBPKJ8GS</td>\n",
       "      <td>8.0</td>\n",
       "      <td>2015-08-18 19:15:41.000</td>\n",
       "      <td>87</td>\n",
       "      <td>Yes</td>\n",
       "      <td>Technology</td>\n",
       "      <td>0</td>\n",
       "      <td>68</td>\n",
       "      <td>Yes</td>\n",
       "      <td>NaN</td>\n",
       "      <td>NaN</td>\n",
       "      <td>4276.0</td>\n",
       "      <td>6443.0</td>\n",
       "      <td>884.869920</td>\n",
       "    </tr>\n",
       "    <tr>\n",
       "      <td>5690</td>\n",
       "      <td>FABE7D5ZH3MPNEQV</td>\n",
       "      <td>44.0</td>\n",
       "      <td>2015-10-01 19:02:11.000</td>\n",
       "      <td>55</td>\n",
       "      <td>No</td>\n",
       "      <td>Repair</td>\n",
       "      <td>0</td>\n",
       "      <td>68</td>\n",
       "      <td>No</td>\n",
       "      <td>NaN</td>\n",
       "      <td>NaN</td>\n",
       "      <td>2017.0</td>\n",
       "      <td>3754.0</td>\n",
       "      <td>3126.073500</td>\n",
       "    </tr>\n",
       "  </tbody>\n",
       "</table>\n",
       "</div>"
      ],
      "text/plain": [
       "            Product_id  Stall_no             instock_date  Market_Category  \\\n",
       "76    ACCEHZF95ZRCKACD       7.0  2015-05-09 17:19:45.000              358   \n",
       "760   BRAEDNFGGHAFHEY4       7.0  2015-08-19 02:31:36.000               23   \n",
       "1691  DREEGWW9DMTGZDZZ      27.0  2015-11-13 15:06:18.000              188   \n",
       "1835  BRAEBUHXKDBWRMCK       1.0  2015-08-20 20:48:14.000               23   \n",
       "2096  SHIECMGF5WTA2WGG      38.0  2015-09-26 14:18:31.000               57   \n",
       "2906  HACEJXFJZ5HSR8QT       3.0  2015-09-22 13:24:08.000               58   \n",
       "3194  NKCE7MMGPAKN8CMJ      30.0  2015-10-20 02:34:52.000              113   \n",
       "4902  BRAE6Z79SBPKJ8GS       8.0  2015-08-18 19:15:41.000               87   \n",
       "5690  FABE7D5ZH3MPNEQV      44.0  2015-10-01 19:02:11.000               55   \n",
       "\n",
       "     Loyalty_customer Product_Category  Grade  Demand Discount_avail  \\\n",
       "76                Yes        Cosmetics      3      31             No   \n",
       "760               No           Organic      2      51             No   \n",
       "1691              Yes      Hospitality      0      20             No   \n",
       "1835              No        Child_care      1      44             No   \n",
       "2096              Yes          Fashion      0      24             No   \n",
       "2906              No            Repair      0      91             No   \n",
       "3194              No       Educational      0      34             No   \n",
       "4902              Yes       Technology      0      68            Yes   \n",
       "5690              No            Repair      0      68             No   \n",
       "\n",
       "      charges_1  charges_2 (%)  Minimum_price  Maximum_price  Selling_Price  \n",
       "76          NaN            NaN         9483.0        13644.0   11761.213275  \n",
       "760         NaN            NaN         1806.0         5555.0    3759.126624  \n",
       "1691        NaN            NaN         3098.0         4201.0    3893.001275  \n",
       "1835        NaN            NaN         2433.0         3583.0    3278.293776  \n",
       "2096        NaN            NaN         2479.0         5151.0    4177.111050  \n",
       "2906        NaN            NaN         3239.0         4779.0    4239.666816  \n",
       "3194        NaN            NaN         2009.0         5656.0    3937.850700  \n",
       "4902        NaN            NaN         4276.0         6443.0     884.869920  \n",
       "5690        NaN            NaN         2017.0         3754.0    3126.073500  "
      ]
     },
     "execution_count": 22,
     "metadata": {},
     "output_type": "execute_result"
    }
   ],
   "source": [
    "data[(data['charges_1'].isna())  & (data['charges_2 (%)'].isna())]"
   ]
  },
  {
   "cell_type": "code",
   "execution_count": 23,
   "metadata": {},
   "outputs": [],
   "source": [
    "# Filling the charges_1 null values with forward fill\n",
    "data['charges_1'].fillna(method = 'ffill', limit = 2, inplace = True)"
   ]
  },
  {
   "cell_type": "code",
   "execution_count": 24,
   "metadata": {},
   "outputs": [],
   "source": [
    "test['charges_1'].fillna(method = 'ffill', limit = 2, inplace = True)"
   ]
  },
  {
   "cell_type": "code",
   "execution_count": 25,
   "metadata": {},
   "outputs": [],
   "source": [
    "# Filling the charges_2 null values with forward fill\n",
    "data['charges_2 (%)'].fillna(method = 'ffill', limit = 2, inplace = True)"
   ]
  },
  {
   "cell_type": "code",
   "execution_count": 26,
   "metadata": {},
   "outputs": [],
   "source": [
    "test['charges_2 (%)'].fillna(method = 'ffill', limit = 2, inplace = True)"
   ]
  },
  {
   "cell_type": "code",
   "execution_count": 27,
   "metadata": {},
   "outputs": [],
   "source": [
    "# Filling the null values of minimum_price\n",
    "data['Minimum_price'] = data['Minimum_price'].fillna((data['Maximum_price'] - data['charges_1'])*((100 - data['charges_2 (%)'])/100))"
   ]
  },
  {
   "cell_type": "code",
   "execution_count": 28,
   "metadata": {},
   "outputs": [],
   "source": [
    "test['Minimum_price'] = test['Minimum_price'].fillna((test['Maximum_price'] - test['charges_1'])*((100 - test['charges_2 (%)'])/100))"
   ]
  },
  {
   "cell_type": "code",
   "execution_count": 29,
   "metadata": {},
   "outputs": [],
   "source": [
    "# Selling price can't be negative so I have replaced less than 0 values with minimum price\n",
    "data.loc[data['Selling_Price'] < 0, 'Selling_Price'] = data['Minimum_price']"
   ]
  },
  {
   "cell_type": "code",
   "execution_count": 30,
   "metadata": {},
   "outputs": [
    {
     "data": {
      "text/plain": [
       "Product_id          0\n",
       "Stall_no            0\n",
       "instock_date        0\n",
       "Market_Category     0\n",
       "Loyalty_customer    0\n",
       "Product_Category    0\n",
       "Grade               0\n",
       "Demand              0\n",
       "Discount_avail      0\n",
       "charges_1           0\n",
       "charges_2 (%)       0\n",
       "Minimum_price       0\n",
       "Maximum_price       0\n",
       "dtype: int64"
      ]
     },
     "execution_count": 30,
     "metadata": {},
     "output_type": "execute_result"
    }
   ],
   "source": [
    "test.isnull().sum()"
   ]
  },
  {
   "cell_type": "code",
   "execution_count": 31,
   "metadata": {},
   "outputs": [
    {
     "data": {
      "text/plain": [
       "Product_id          0\n",
       "Stall_no            0\n",
       "instock_date        0\n",
       "Market_Category     0\n",
       "Loyalty_customer    0\n",
       "Product_Category    0\n",
       "Grade               0\n",
       "Demand              0\n",
       "Discount_avail      0\n",
       "charges_1           0\n",
       "charges_2 (%)       0\n",
       "Minimum_price       0\n",
       "Maximum_price       0\n",
       "Selling_Price       0\n",
       "dtype: int64"
      ]
     },
     "execution_count": 31,
     "metadata": {},
     "output_type": "execute_result"
    }
   ],
   "source": [
    "data.isnull().sum()"
   ]
  },
  {
   "cell_type": "code",
   "execution_count": 32,
   "metadata": {},
   "outputs": [
    {
     "data": {
      "image/png": "[encoded data removed]",
      "text/plain": [
       "<Figure size 1080x504 with 6 Axes>"
      ]
     },
     "metadata": {
      "needs_background": "light"
     },
     "output_type": "display_data"
    }
   ],
   "source": [
    "fig, axes = plt.subplots(2,3,figsize=(15,7))\n",
    "sns.distplot(data['charges_1'], ax=axes[0,0])\n",
    "sns.distplot(data['charges_2 (%)'], ax=axes[0,1])\n",
    "sns.distplot(data['Minimum_price'], ax=axes[0,2])\n",
    "sns.distplot(data['Maximum_price'], ax=axes[1,0])\n",
    "sns.distplot(data['Selling_Price'], ax=axes[1,1])\n",
    "sns.distplot(data['Stall_no'], ax=axes[1,2])\n",
    "plt.show()"
   ]
  },
  {
   "cell_type": "code",
   "execution_count": 33,
   "metadata": {},
   "outputs": [
    {
     "data": {
      "text/plain": [
       "(3430, 13)"
      ]
     },
     "execution_count": 33,
     "metadata": {},
     "output_type": "execute_result"
    }
   ],
   "source": [
    "test.shape"
   ]
  },
  {
   "cell_type": "code",
   "execution_count": 34,
   "metadata": {},
   "outputs": [],
   "source": [
    "data['Product_id'] = data['Product_id'].astype('category')\n",
    "test['Product_id'] = test['Product_id'].astype('category')"
   ]
  },
  {
   "cell_type": "code",
   "execution_count": 35,
   "metadata": {},
   "outputs": [],
   "source": [
    "data['Loyalty_customer'] = data['Loyalty_customer'].astype('category')\n",
    "test['Loyalty_customer'] = test['Loyalty_customer'].astype('category')"
   ]
  },
  {
   "cell_type": "code",
   "execution_count": 36,
   "metadata": {},
   "outputs": [],
   "source": [
    "data['Product_Category'] = data['Product_Category'].astype('category')\n",
    "test['Product_Category'] = test['Product_Category'].astype('category')"
   ]
  },
  {
   "cell_type": "code",
   "execution_count": 37,
   "metadata": {},
   "outputs": [],
   "source": [
    "data['instock_date'] = pd.to_datetime(data['instock_date'], format='%Y-%m-%d %H:%M:%S')\n",
    "test['instock_date'] = pd.to_datetime(test['instock_date'], format='%Y-%m-%d %H:%M:%S')"
   ]
  },
  {
   "cell_type": "code",
   "execution_count": 38,
   "metadata": {},
   "outputs": [],
   "source": [
    "data['Discount_avail'] = data['Discount_avail'].astype('category')\n",
    "test['Discount_avail'] = test['Discount_avail'].astype('category')"
   ]
  },
  {
   "cell_type": "code",
   "execution_count": 39,
   "metadata": {},
   "outputs": [],
   "source": [
    "data['Stall_no'] = data['Stall_no'].astype(int)\n",
    "test['Stall_no'] = test['Stall_no'].astype(int)"
   ]
  },
  {
   "cell_type": "code",
   "execution_count": 40,
   "metadata": {},
   "outputs": [
    {
     "name": "stdout",
     "output_type": "stream",
     "text": [
      "<class 'pandas.core.frame.DataFrame'>\n",
      "RangeIndex: 3430 entries, 0 to 3429\n",
      "Data columns (total 13 columns):\n",
      "Product_id          3430 non-null category\n",
      "Stall_no            3430 non-null int32\n",
      "instock_date        3430 non-null datetime64[ns]\n",
      "Market_Category     3430 non-null int64\n",
      "Loyalty_customer    3430 non-null category\n",
      "Product_Category    3430 non-null category\n",
      "Grade               3430 non-null int64\n",
      "Demand              3430 non-null int64\n",
      "Discount_avail      3430 non-null category\n",
      "charges_1           3430 non-null float64\n",
      "charges_2 (%)       3430 non-null float64\n",
      "Minimum_price       3430 non-null float64\n",
      "Maximum_price       3430 non-null int64\n",
      "dtypes: category(4), datetime64[ns](1), float64(3), int32(1), int64(4)\n",
      "memory usage: 432.0 KB\n"
     ]
    }
   ],
   "source": [
    "test.info()"
   ]
  },
  {
   "cell_type": "code",
   "execution_count": 41,
   "metadata": {},
   "outputs": [],
   "source": [
    "# By removing all the null values from the dataset, RMSE is 352."
   ]
  },
  {
   "cell_type": "code",
   "execution_count": 42,
   "metadata": {},
   "outputs": [
    {
     "data": {
      "text/plain": [
       "(3430, 13)"
      ]
     },
     "execution_count": 42,
     "metadata": {},
     "output_type": "execute_result"
    }
   ],
   "source": [
    "test.shape"
   ]
  },
  {
   "cell_type": "code",
   "execution_count": null,
   "metadata": {},
   "outputs": [],
   "source": []
  },
  {
   "cell_type": "markdown",
   "metadata": {},
   "source": [
    "# Handling Outliers "
   ]
  },
  {
   "cell_type": "code",
   "execution_count": 43,
   "metadata": {},
   "outputs": [],
   "source": [
    "# Lets check correlation between the features"
   ]
  },
  {
   "cell_type": "code",
   "execution_count": 44,
   "metadata": {},
   "outputs": [
    {
     "data": {
      "text/html": [
       "<div>\n",
       "<style scoped>\n",
       "    .dataframe tbody tr th:only-of-type {\n",
       "        vertical-align: middle;\n",
       "    }\n",
       "\n",
       "    .dataframe tbody tr th {\n",
       "        vertical-align: top;\n",
       "    }\n",
       "\n",
       "    .dataframe thead th {\n",
       "        text-align: right;\n",
       "    }\n",
       "</style>\n",
       "<table border=\"1\" class=\"dataframe\">\n",
       "  <thead>\n",
       "    <tr style=\"text-align: right;\">\n",
       "      <th></th>\n",
       "      <th>Stall_no</th>\n",
       "      <th>Market_Category</th>\n",
       "      <th>Grade</th>\n",
       "      <th>Demand</th>\n",
       "      <th>charges_1</th>\n",
       "      <th>charges_2 (%)</th>\n",
       "      <th>Minimum_price</th>\n",
       "      <th>Maximum_price</th>\n",
       "      <th>Selling_Price</th>\n",
       "    </tr>\n",
       "  </thead>\n",
       "  <tbody>\n",
       "    <tr>\n",
       "      <td>Stall_no</td>\n",
       "      <td>1.000000</td>\n",
       "      <td>-0.008207</td>\n",
       "      <td>-0.001867</td>\n",
       "      <td>0.003997</td>\n",
       "      <td>-0.004643</td>\n",
       "      <td>-0.004007</td>\n",
       "      <td>-0.004807</td>\n",
       "      <td>-0.001909</td>\n",
       "      <td>0.008962</td>\n",
       "    </tr>\n",
       "    <tr>\n",
       "      <td>Market_Category</td>\n",
       "      <td>-0.008207</td>\n",
       "      <td>1.000000</td>\n",
       "      <td>-0.038034</td>\n",
       "      <td>-0.017535</td>\n",
       "      <td>0.021391</td>\n",
       "      <td>0.020538</td>\n",
       "      <td>0.192855</td>\n",
       "      <td>0.112592</td>\n",
       "      <td>0.138704</td>\n",
       "    </tr>\n",
       "    <tr>\n",
       "      <td>Grade</td>\n",
       "      <td>-0.001867</td>\n",
       "      <td>-0.038034</td>\n",
       "      <td>1.000000</td>\n",
       "      <td>0.009488</td>\n",
       "      <td>-0.026141</td>\n",
       "      <td>-0.014647</td>\n",
       "      <td>-0.078561</td>\n",
       "      <td>0.160737</td>\n",
       "      <td>0.082064</td>\n",
       "    </tr>\n",
       "    <tr>\n",
       "      <td>Demand</td>\n",
       "      <td>0.003997</td>\n",
       "      <td>-0.017535</td>\n",
       "      <td>0.009488</td>\n",
       "      <td>1.000000</td>\n",
       "      <td>-0.006103</td>\n",
       "      <td>0.015246</td>\n",
       "      <td>0.009121</td>\n",
       "      <td>-0.002800</td>\n",
       "      <td>-0.000392</td>\n",
       "    </tr>\n",
       "    <tr>\n",
       "      <td>charges_1</td>\n",
       "      <td>-0.004643</td>\n",
       "      <td>0.021391</td>\n",
       "      <td>-0.026141</td>\n",
       "      <td>-0.006103</td>\n",
       "      <td>1.000000</td>\n",
       "      <td>0.257385</td>\n",
       "      <td>0.021308</td>\n",
       "      <td>0.004891</td>\n",
       "      <td>0.057438</td>\n",
       "    </tr>\n",
       "    <tr>\n",
       "      <td>charges_2 (%)</td>\n",
       "      <td>-0.004007</td>\n",
       "      <td>0.020538</td>\n",
       "      <td>-0.014647</td>\n",
       "      <td>0.015246</td>\n",
       "      <td>0.257385</td>\n",
       "      <td>1.000000</td>\n",
       "      <td>0.002198</td>\n",
       "      <td>0.008619</td>\n",
       "      <td>0.008193</td>\n",
       "    </tr>\n",
       "    <tr>\n",
       "      <td>Minimum_price</td>\n",
       "      <td>-0.004807</td>\n",
       "      <td>0.192855</td>\n",
       "      <td>-0.078561</td>\n",
       "      <td>0.009121</td>\n",
       "      <td>0.021308</td>\n",
       "      <td>0.002198</td>\n",
       "      <td>1.000000</td>\n",
       "      <td>0.658140</td>\n",
       "      <td>0.706574</td>\n",
       "    </tr>\n",
       "    <tr>\n",
       "      <td>Maximum_price</td>\n",
       "      <td>-0.001909</td>\n",
       "      <td>0.112592</td>\n",
       "      <td>0.160737</td>\n",
       "      <td>-0.002800</td>\n",
       "      <td>0.004891</td>\n",
       "      <td>0.008619</td>\n",
       "      <td>0.658140</td>\n",
       "      <td>1.000000</td>\n",
       "      <td>0.718413</td>\n",
       "    </tr>\n",
       "    <tr>\n",
       "      <td>Selling_Price</td>\n",
       "      <td>0.008962</td>\n",
       "      <td>0.138704</td>\n",
       "      <td>0.082064</td>\n",
       "      <td>-0.000392</td>\n",
       "      <td>0.057438</td>\n",
       "      <td>0.008193</td>\n",
       "      <td>0.706574</td>\n",
       "      <td>0.718413</td>\n",
       "      <td>1.000000</td>\n",
       "    </tr>\n",
       "  </tbody>\n",
       "</table>\n",
       "</div>"
      ],
      "text/plain": [
       "                 Stall_no  Market_Category     Grade    Demand  charges_1  \\\n",
       "Stall_no         1.000000        -0.008207 -0.001867  0.003997  -0.004643   \n",
       "Market_Category -0.008207         1.000000 -0.038034 -0.017535   0.021391   \n",
       "Grade           -0.001867        -0.038034  1.000000  0.009488  -0.026141   \n",
       "Demand           0.003997        -0.017535  0.009488  1.000000  -0.006103   \n",
       "charges_1       -0.004643         0.021391 -0.026141 -0.006103   1.000000   \n",
       "charges_2 (%)   -0.004007         0.020538 -0.014647  0.015246   0.257385   \n",
       "Minimum_price   -0.004807         0.192855 -0.078561  0.009121   0.021308   \n",
       "Maximum_price   -0.001909         0.112592  0.160737 -0.002800   0.004891   \n",
       "Selling_Price    0.008962         0.138704  0.082064 -0.000392   0.057438   \n",
       "\n",
       "                 charges_2 (%)  Minimum_price  Maximum_price  Selling_Price  \n",
       "Stall_no             -0.004007      -0.004807      -0.001909       0.008962  \n",
       "Market_Category       0.020538       0.192855       0.112592       0.138704  \n",
       "Grade                -0.014647      -0.078561       0.160737       0.082064  \n",
       "Demand                0.015246       0.009121      -0.002800      -0.000392  \n",
       "charges_1             0.257385       0.021308       0.004891       0.057438  \n",
       "charges_2 (%)         1.000000       0.002198       0.008619       0.008193  \n",
       "Minimum_price         0.002198       1.000000       0.658140       0.706574  \n",
       "Maximum_price         0.008619       0.658140       1.000000       0.718413  \n",
       "Selling_Price         0.008193       0.706574       0.718413       1.000000  "
      ]
     },
     "execution_count": 44,
     "metadata": {},
     "output_type": "execute_result"
    }
   ],
   "source": [
    "data.corr()"
   ]
  },
  {
   "cell_type": "code",
   "execution_count": 45,
   "metadata": {},
   "outputs": [
    {
     "data": {
      "text/html": [
       "<div>\n",
       "<style scoped>\n",
       "    .dataframe tbody tr th:only-of-type {\n",
       "        vertical-align: middle;\n",
       "    }\n",
       "\n",
       "    .dataframe tbody tr th {\n",
       "        vertical-align: top;\n",
       "    }\n",
       "\n",
       "    .dataframe thead th {\n",
       "        text-align: right;\n",
       "    }\n",
       "</style>\n",
       "<table border=\"1\" class=\"dataframe\">\n",
       "  <thead>\n",
       "    <tr style=\"text-align: right;\">\n",
       "      <th></th>\n",
       "      <th>Stall_no</th>\n",
       "      <th>Market_Category</th>\n",
       "      <th>Grade</th>\n",
       "      <th>Demand</th>\n",
       "      <th>charges_1</th>\n",
       "      <th>charges_2 (%)</th>\n",
       "      <th>Minimum_price</th>\n",
       "      <th>Maximum_price</th>\n",
       "      <th>Selling_Price</th>\n",
       "    </tr>\n",
       "  </thead>\n",
       "  <tbody>\n",
       "    <tr>\n",
       "      <td>Stall_no</td>\n",
       "      <td>True</td>\n",
       "      <td>False</td>\n",
       "      <td>False</td>\n",
       "      <td>False</td>\n",
       "      <td>False</td>\n",
       "      <td>False</td>\n",
       "      <td>False</td>\n",
       "      <td>False</td>\n",
       "      <td>False</td>\n",
       "    </tr>\n",
       "    <tr>\n",
       "      <td>Market_Category</td>\n",
       "      <td>False</td>\n",
       "      <td>True</td>\n",
       "      <td>False</td>\n",
       "      <td>False</td>\n",
       "      <td>False</td>\n",
       "      <td>False</td>\n",
       "      <td>False</td>\n",
       "      <td>False</td>\n",
       "      <td>False</td>\n",
       "    </tr>\n",
       "    <tr>\n",
       "      <td>Grade</td>\n",
       "      <td>False</td>\n",
       "      <td>False</td>\n",
       "      <td>True</td>\n",
       "      <td>False</td>\n",
       "      <td>False</td>\n",
       "      <td>False</td>\n",
       "      <td>False</td>\n",
       "      <td>False</td>\n",
       "      <td>False</td>\n",
       "    </tr>\n",
       "    <tr>\n",
       "      <td>Demand</td>\n",
       "      <td>False</td>\n",
       "      <td>False</td>\n",
       "      <td>False</td>\n",
       "      <td>True</td>\n",
       "      <td>False</td>\n",
       "      <td>False</td>\n",
       "      <td>False</td>\n",
       "      <td>False</td>\n",
       "      <td>False</td>\n",
       "    </tr>\n",
       "    <tr>\n",
       "      <td>charges_1</td>\n",
       "      <td>False</td>\n",
       "      <td>False</td>\n",
       "      <td>False</td>\n",
       "      <td>False</td>\n",
       "      <td>True</td>\n",
       "      <td>False</td>\n",
       "      <td>False</td>\n",
       "      <td>False</td>\n",
       "      <td>False</td>\n",
       "    </tr>\n",
       "    <tr>\n",
       "      <td>charges_2 (%)</td>\n",
       "      <td>False</td>\n",
       "      <td>False</td>\n",
       "      <td>False</td>\n",
       "      <td>False</td>\n",
       "      <td>False</td>\n",
       "      <td>True</td>\n",
       "      <td>False</td>\n",
       "      <td>False</td>\n",
       "      <td>False</td>\n",
       "    </tr>\n",
       "    <tr>\n",
       "      <td>Minimum_price</td>\n",
       "      <td>False</td>\n",
       "      <td>False</td>\n",
       "      <td>False</td>\n",
       "      <td>False</td>\n",
       "      <td>False</td>\n",
       "      <td>False</td>\n",
       "      <td>True</td>\n",
       "      <td>False</td>\n",
       "      <td>False</td>\n",
       "    </tr>\n",
       "    <tr>\n",
       "      <td>Maximum_price</td>\n",
       "      <td>False</td>\n",
       "      <td>False</td>\n",
       "      <td>False</td>\n",
       "      <td>False</td>\n",
       "      <td>False</td>\n",
       "      <td>False</td>\n",
       "      <td>False</td>\n",
       "      <td>True</td>\n",
       "      <td>False</td>\n",
       "    </tr>\n",
       "    <tr>\n",
       "      <td>Selling_Price</td>\n",
       "      <td>False</td>\n",
       "      <td>False</td>\n",
       "      <td>False</td>\n",
       "      <td>False</td>\n",
       "      <td>False</td>\n",
       "      <td>False</td>\n",
       "      <td>False</td>\n",
       "      <td>False</td>\n",
       "      <td>True</td>\n",
       "    </tr>\n",
       "  </tbody>\n",
       "</table>\n",
       "</div>"
      ],
      "text/plain": [
       "                 Stall_no  Market_Category  Grade  Demand  charges_1  \\\n",
       "Stall_no             True            False  False   False      False   \n",
       "Market_Category     False             True  False   False      False   \n",
       "Grade               False            False   True   False      False   \n",
       "Demand              False            False  False    True      False   \n",
       "charges_1           False            False  False   False       True   \n",
       "charges_2 (%)       False            False  False   False      False   \n",
       "Minimum_price       False            False  False   False      False   \n",
       "Maximum_price       False            False  False   False      False   \n",
       "Selling_Price       False            False  False   False      False   \n",
       "\n",
       "                 charges_2 (%)  Minimum_price  Maximum_price  Selling_Price  \n",
       "Stall_no                 False          False          False          False  \n",
       "Market_Category          False          False          False          False  \n",
       "Grade                    False          False          False          False  \n",
       "Demand                   False          False          False          False  \n",
       "charges_1                False          False          False          False  \n",
       "charges_2 (%)             True          False          False          False  \n",
       "Minimum_price            False           True          False          False  \n",
       "Maximum_price            False          False           True          False  \n",
       "Selling_Price            False          False          False           True  "
      ]
     },
     "execution_count": 45,
     "metadata": {},
     "output_type": "execute_result"
    }
   ],
   "source": [
    "data.corr() > 0.8"
   ]
  },
  {
   "cell_type": "markdown",
   "metadata": {},
   "source": [
    "#### From this we can get an inference that no features are correlated"
   ]
  },
  {
   "cell_type": "code",
   "execution_count": 46,
   "metadata": {},
   "outputs": [
    {
     "data": {
      "text/plain": [
       "Stall_no           0.004341\n",
       "Market_Category    0.462427\n",
       "Grade              1.197605\n",
       "Demand            -0.014777\n",
       "charges_1          1.090658\n",
       "charges_2 (%)     -0.138276\n",
       "Minimum_price      1.169136\n",
       "Maximum_price      1.577610\n",
       "Selling_Price      0.918192\n",
       "dtype: float64"
      ]
     },
     "execution_count": 46,
     "metadata": {},
     "output_type": "execute_result"
    }
   ],
   "source": [
    "data.skew()"
   ]
  },
  {
   "cell_type": "code",
   "execution_count": 47,
   "metadata": {},
   "outputs": [
    {
     "data": {
      "text/plain": [
       "Stall_no          -1.176857\n",
       "Market_Category   -1.420226\n",
       "Grade             -0.143552\n",
       "Demand            -1.216519\n",
       "charges_1          1.001224\n",
       "charges_2 (%)     -0.972298\n",
       "Minimum_price      2.232077\n",
       "Maximum_price      7.777393\n",
       "Selling_Price      1.349512\n",
       "dtype: float64"
      ]
     },
     "execution_count": 47,
     "metadata": {},
     "output_type": "execute_result"
    }
   ],
   "source": [
    "data.kurt()"
   ]
  },
  {
   "cell_type": "code",
   "execution_count": 48,
   "metadata": {},
   "outputs": [
    {
     "data": {
      "image/png": "[encoded data removed]",
      "text/plain": [
       "<Figure size 1440x360 with 3 Axes>"
      ]
     },
     "metadata": {
      "needs_background": "light"
     },
     "output_type": "display_data"
    }
   ],
   "source": [
    "fig, axes = plt.subplots(1,3, figsize = (20,5))\n",
    "sns.boxplot(data['Minimum_price'],  whis = 3.5, ax = axes[0])\n",
    "sns.boxplot(data['Maximum_price'],  whis = 4 , ax = axes[1])\n",
    "sns.boxplot(data['Selling_Price'], whis = 3.5, ax = axes[2])\n",
    "plt.show()"
   ]
  },
  {
   "cell_type": "code",
   "execution_count": 49,
   "metadata": {},
   "outputs": [
    {
     "data": {
      "text/plain": [
       "2834.0"
      ]
     },
     "execution_count": 49,
     "metadata": {},
     "output_type": "execute_result"
    }
   ],
   "source": [
    "q1 = data['Minimum_price'].quantile(0.25)\n",
    "q3 = data['Minimum_price'].quantile(0.75)\n",
    "IQR = q3 - q1\n",
    "IQR"
   ]
  },
  {
   "cell_type": "code",
   "execution_count": 50,
   "metadata": {},
   "outputs": [
    {
     "data": {
      "text/plain": [
       "14634.0"
      ]
     },
     "execution_count": 50,
     "metadata": {},
     "output_type": "execute_result"
    }
   ],
   "source": [
    "upper_limit = q3 + 3.5*IQR\n",
    "upper_limit"
   ]
  },
  {
   "cell_type": "code",
   "execution_count": 51,
   "metadata": {},
   "outputs": [
    {
     "data": {
      "text/plain": [
       "-2370.0"
      ]
     },
     "execution_count": 51,
     "metadata": {},
     "output_type": "execute_result"
    }
   ],
   "source": [
    "lower_limit = q1 - 1.5*IQR\n",
    "lower_limit"
   ]
  },
  {
   "cell_type": "code",
   "execution_count": 52,
   "metadata": {},
   "outputs": [
    {
     "data": {
      "text/html": [
       "<div>\n",
       "<style scoped>\n",
       "    .dataframe tbody tr th:only-of-type {\n",
       "        vertical-align: middle;\n",
       "    }\n",
       "\n",
       "    .dataframe tbody tr th {\n",
       "        vertical-align: top;\n",
       "    }\n",
       "\n",
       "    .dataframe thead th {\n",
       "        text-align: right;\n",
       "    }\n",
       "</style>\n",
       "<table border=\"1\" class=\"dataframe\">\n",
       "  <thead>\n",
       "    <tr style=\"text-align: right;\">\n",
       "      <th></th>\n",
       "      <th>Product_id</th>\n",
       "      <th>Stall_no</th>\n",
       "      <th>instock_date</th>\n",
       "      <th>Market_Category</th>\n",
       "      <th>Loyalty_customer</th>\n",
       "      <th>Product_Category</th>\n",
       "      <th>Grade</th>\n",
       "      <th>Demand</th>\n",
       "      <th>Discount_avail</th>\n",
       "      <th>charges_1</th>\n",
       "      <th>charges_2 (%)</th>\n",
       "      <th>Minimum_price</th>\n",
       "      <th>Maximum_price</th>\n",
       "      <th>Selling_Price</th>\n",
       "    </tr>\n",
       "  </thead>\n",
       "  <tbody>\n",
       "    <tr>\n",
       "      <td>374</td>\n",
       "      <td>WATEF3HQZ3KB7U4V</td>\n",
       "      <td>42</td>\n",
       "      <td>2016-03-28 20:59:38</td>\n",
       "      <td>234</td>\n",
       "      <td>Yes</td>\n",
       "      <td>Child_care</td>\n",
       "      <td>0</td>\n",
       "      <td>57</td>\n",
       "      <td>No</td>\n",
       "      <td>337.0</td>\n",
       "      <td>14.0</td>\n",
       "      <td>15106.0</td>\n",
       "      <td>19763.0</td>\n",
       "      <td>17682.016176</td>\n",
       "    </tr>\n",
       "    <tr>\n",
       "      <td>1491</td>\n",
       "      <td>PCSEC86V5NPJGZP7</td>\n",
       "      <td>48</td>\n",
       "      <td>2016-03-28 21:01:36</td>\n",
       "      <td>234</td>\n",
       "      <td>Yes</td>\n",
       "      <td>Pet_care</td>\n",
       "      <td>0</td>\n",
       "      <td>20</td>\n",
       "      <td>No</td>\n",
       "      <td>171.0</td>\n",
       "      <td>4.0</td>\n",
       "      <td>15264.0</td>\n",
       "      <td>19982.0</td>\n",
       "      <td>17400.526375</td>\n",
       "    </tr>\n",
       "    <tr>\n",
       "      <td>1740</td>\n",
       "      <td>PCSE4TF3HP7QP3NR</td>\n",
       "      <td>43</td>\n",
       "      <td>2016-03-28 20:59:34</td>\n",
       "      <td>234</td>\n",
       "      <td>Yes</td>\n",
       "      <td>Home_decor</td>\n",
       "      <td>1</td>\n",
       "      <td>35</td>\n",
       "      <td>No</td>\n",
       "      <td>272.0</td>\n",
       "      <td>11.0</td>\n",
       "      <td>16099.0</td>\n",
       "      <td>20137.0</td>\n",
       "      <td>18363.905175</td>\n",
       "    </tr>\n",
       "    <tr>\n",
       "      <td>2205</td>\n",
       "      <td>SGLEGBV6TXYCHAVG</td>\n",
       "      <td>12</td>\n",
       "      <td>2016-03-29 19:41:29</td>\n",
       "      <td>244</td>\n",
       "      <td>Yes</td>\n",
       "      <td>Fashion</td>\n",
       "      <td>0</td>\n",
       "      <td>69</td>\n",
       "      <td>No</td>\n",
       "      <td>369.0</td>\n",
       "      <td>14.0</td>\n",
       "      <td>15118.0</td>\n",
       "      <td>26817.0</td>\n",
       "      <td>21152.191500</td>\n",
       "    </tr>\n",
       "    <tr>\n",
       "      <td>4092</td>\n",
       "      <td>WATDZ2ZQGTENGJDH</td>\n",
       "      <td>12</td>\n",
       "      <td>2016-03-28 19:59:10</td>\n",
       "      <td>225</td>\n",
       "      <td>Yes</td>\n",
       "      <td>Technology</td>\n",
       "      <td>0</td>\n",
       "      <td>31</td>\n",
       "      <td>No</td>\n",
       "      <td>635.0</td>\n",
       "      <td>14.0</td>\n",
       "      <td>15034.0</td>\n",
       "      <td>22915.0</td>\n",
       "      <td>19586.969850</td>\n",
       "    </tr>\n",
       "    <tr>\n",
       "      <td>5432</td>\n",
       "      <td>WATDZ5HGUUHWPYHC</td>\n",
       "      <td>19</td>\n",
       "      <td>2016-03-28 20:01:39</td>\n",
       "      <td>358</td>\n",
       "      <td>Yes</td>\n",
       "      <td>Cosmetics</td>\n",
       "      <td>3</td>\n",
       "      <td>33</td>\n",
       "      <td>Yes</td>\n",
       "      <td>206.0</td>\n",
       "      <td>17.0</td>\n",
       "      <td>17539.0</td>\n",
       "      <td>23652.0</td>\n",
       "      <td>3117.662809</td>\n",
       "    </tr>\n",
       "    <tr>\n",
       "      <td>5661</td>\n",
       "      <td>BBAEHWDDMZNYAA3R</td>\n",
       "      <td>28</td>\n",
       "      <td>2016-03-29 19:56:12</td>\n",
       "      <td>244</td>\n",
       "      <td>Yes</td>\n",
       "      <td>Home_decor</td>\n",
       "      <td>0</td>\n",
       "      <td>12</td>\n",
       "      <td>No</td>\n",
       "      <td>215.0</td>\n",
       "      <td>15.0</td>\n",
       "      <td>17580.0</td>\n",
       "      <td>27204.0</td>\n",
       "      <td>22638.325941</td>\n",
       "    </tr>\n",
       "  </tbody>\n",
       "</table>\n",
       "</div>"
      ],
      "text/plain": [
       "            Product_id  Stall_no        instock_date  Market_Category  \\\n",
       "374   WATEF3HQZ3KB7U4V        42 2016-03-28 20:59:38              234   \n",
       "1491  PCSEC86V5NPJGZP7        48 2016-03-28 21:01:36              234   \n",
       "1740  PCSE4TF3HP7QP3NR        43 2016-03-28 20:59:34              234   \n",
       "2205  SGLEGBV6TXYCHAVG        12 2016-03-29 19:41:29              244   \n",
       "4092  WATDZ2ZQGTENGJDH        12 2016-03-28 19:59:10              225   \n",
       "5432  WATDZ5HGUUHWPYHC        19 2016-03-28 20:01:39              358   \n",
       "5661  BBAEHWDDMZNYAA3R        28 2016-03-29 19:56:12              244   \n",
       "\n",
       "     Loyalty_customer Product_Category  Grade  Demand Discount_avail  \\\n",
       "374               Yes       Child_care      0      57             No   \n",
       "1491              Yes         Pet_care      0      20             No   \n",
       "1740              Yes       Home_decor      1      35             No   \n",
       "2205              Yes          Fashion      0      69             No   \n",
       "4092              Yes       Technology      0      31             No   \n",
       "5432              Yes        Cosmetics      3      33            Yes   \n",
       "5661              Yes       Home_decor      0      12             No   \n",
       "\n",
       "      charges_1  charges_2 (%)  Minimum_price  Maximum_price  Selling_Price  \n",
       "374       337.0           14.0        15106.0        19763.0   17682.016176  \n",
       "1491      171.0            4.0        15264.0        19982.0   17400.526375  \n",
       "1740      272.0           11.0        16099.0        20137.0   18363.905175  \n",
       "2205      369.0           14.0        15118.0        26817.0   21152.191500  \n",
       "4092      635.0           14.0        15034.0        22915.0   19586.969850  \n",
       "5432      206.0           17.0        17539.0        23652.0    3117.662809  \n",
       "5661      215.0           15.0        17580.0        27204.0   22638.325941  "
      ]
     },
     "execution_count": 52,
     "metadata": {},
     "output_type": "execute_result"
    }
   ],
   "source": [
    "data[data['Minimum_price'] > upper_limit]"
   ]
  },
  {
   "cell_type": "code",
   "execution_count": 53,
   "metadata": {},
   "outputs": [],
   "source": [
    "# removing outliers from Minimum_price feature\n",
    "data.drop(data[data['Minimum_price'] > upper_limit].index, axis =0, inplace = True)"
   ]
  },
  {
   "cell_type": "code",
   "execution_count": 54,
   "metadata": {},
   "outputs": [],
   "source": [
    "### By removing outliers from Minimum_price feature RMSE is 452."
   ]
  },
  {
   "cell_type": "code",
   "execution_count": 55,
   "metadata": {},
   "outputs": [],
   "source": [
    "# Outliers for Maximum_price features"
   ]
  },
  {
   "cell_type": "code",
   "execution_count": 56,
   "metadata": {},
   "outputs": [
    {
     "data": {
      "text/plain": [
       "4306.0"
      ]
     },
     "execution_count": 56,
     "metadata": {},
     "output_type": "execute_result"
    }
   ],
   "source": [
    "q1 = data['Maximum_price'].quantile(0.25)\n",
    "q3 = data['Maximum_price'].quantile(0.75)\n",
    "IQR = q3 - q1\n",
    "IQR"
   ]
  },
  {
   "cell_type": "code",
   "execution_count": 57,
   "metadata": {},
   "outputs": [
    {
     "data": {
      "text/plain": [
       "25169.0"
      ]
     },
     "execution_count": 57,
     "metadata": {},
     "output_type": "execute_result"
    }
   ],
   "source": [
    "upper_limit = q3 + 4*IQR\n",
    "upper_limit"
   ]
  },
  {
   "cell_type": "code",
   "execution_count": 58,
   "metadata": {},
   "outputs": [
    {
     "data": {
      "text/plain": [
       "-2820.0"
      ]
     },
     "execution_count": 58,
     "metadata": {},
     "output_type": "execute_result"
    }
   ],
   "source": [
    "lower_limit = q1 - 1.5*IQR\n",
    "lower_limit"
   ]
  },
  {
   "cell_type": "code",
   "execution_count": 59,
   "metadata": {},
   "outputs": [
    {
     "data": {
      "text/html": [
       "<div>\n",
       "<style scoped>\n",
       "    .dataframe tbody tr th:only-of-type {\n",
       "        vertical-align: middle;\n",
       "    }\n",
       "\n",
       "    .dataframe tbody tr th {\n",
       "        vertical-align: top;\n",
       "    }\n",
       "\n",
       "    .dataframe thead th {\n",
       "        text-align: right;\n",
       "    }\n",
       "</style>\n",
       "<table border=\"1\" class=\"dataframe\">\n",
       "  <thead>\n",
       "    <tr style=\"text-align: right;\">\n",
       "      <th></th>\n",
       "      <th>Product_id</th>\n",
       "      <th>Stall_no</th>\n",
       "      <th>instock_date</th>\n",
       "      <th>Market_Category</th>\n",
       "      <th>Loyalty_customer</th>\n",
       "      <th>Product_Category</th>\n",
       "      <th>Grade</th>\n",
       "      <th>Demand</th>\n",
       "      <th>Discount_avail</th>\n",
       "      <th>charges_1</th>\n",
       "      <th>charges_2 (%)</th>\n",
       "      <th>Minimum_price</th>\n",
       "      <th>Maximum_price</th>\n",
       "      <th>Selling_Price</th>\n",
       "    </tr>\n",
       "  </thead>\n",
       "  <tbody>\n",
       "    <tr>\n",
       "      <td>13</td>\n",
       "      <td>GLSEHPS9CJATDCTY</td>\n",
       "      <td>45</td>\n",
       "      <td>2016-03-10 07:40:07</td>\n",
       "      <td>186</td>\n",
       "      <td>Yes</td>\n",
       "      <td>Cosmetics</td>\n",
       "      <td>0</td>\n",
       "      <td>38</td>\n",
       "      <td>Yes</td>\n",
       "      <td>291.0</td>\n",
       "      <td>17.0</td>\n",
       "      <td>3657.0</td>\n",
       "      <td>58812.0</td>\n",
       "      <td>4724.948025</td>\n",
       "    </tr>\n",
       "    <tr>\n",
       "      <td>237</td>\n",
       "      <td>PCSECV3FHFGEG7FG</td>\n",
       "      <td>22</td>\n",
       "      <td>2016-03-28 21:03:11</td>\n",
       "      <td>358</td>\n",
       "      <td>Yes</td>\n",
       "      <td>Hospitality</td>\n",
       "      <td>3</td>\n",
       "      <td>100</td>\n",
       "      <td>No</td>\n",
       "      <td>342.0</td>\n",
       "      <td>13.0</td>\n",
       "      <td>10616.0</td>\n",
       "      <td>26236.0</td>\n",
       "      <td>18369.131125</td>\n",
       "    </tr>\n",
       "    <tr>\n",
       "      <td>1610</td>\n",
       "      <td>WATDWABR2QMHU2YK</td>\n",
       "      <td>14</td>\n",
       "      <td>2016-03-28 20:04:08</td>\n",
       "      <td>183</td>\n",
       "      <td>Yes</td>\n",
       "      <td>Hospitality</td>\n",
       "      <td>2</td>\n",
       "      <td>71</td>\n",
       "      <td>Yes</td>\n",
       "      <td>206.0</td>\n",
       "      <td>14.0</td>\n",
       "      <td>11872.0</td>\n",
       "      <td>26712.0</td>\n",
       "      <td>2899.463985</td>\n",
       "    </tr>\n",
       "    <tr>\n",
       "      <td>3344</td>\n",
       "      <td>KRTE8BQ3PS5DHXTC</td>\n",
       "      <td>41</td>\n",
       "      <td>2016-03-28 20:43:01</td>\n",
       "      <td>358</td>\n",
       "      <td>Yes</td>\n",
       "      <td>Technology</td>\n",
       "      <td>3</td>\n",
       "      <td>15</td>\n",
       "      <td>No</td>\n",
       "      <td>527.0</td>\n",
       "      <td>12.0</td>\n",
       "      <td>8860.0</td>\n",
       "      <td>26082.0</td>\n",
       "      <td>18017.168103</td>\n",
       "    </tr>\n",
       "    <tr>\n",
       "      <td>3559</td>\n",
       "      <td>ACCDXFFDW2X8MRFF</td>\n",
       "      <td>47</td>\n",
       "      <td>2016-03-18 19:37:22</td>\n",
       "      <td>256</td>\n",
       "      <td>Yes</td>\n",
       "      <td>Cosmetics</td>\n",
       "      <td>0</td>\n",
       "      <td>19</td>\n",
       "      <td>No</td>\n",
       "      <td>287.0</td>\n",
       "      <td>15.0</td>\n",
       "      <td>6221.0</td>\n",
       "      <td>26878.0</td>\n",
       "      <td>16859.633868</td>\n",
       "    </tr>\n",
       "    <tr>\n",
       "      <td>4896</td>\n",
       "      <td>WATDJTR9HJQGBGWG</td>\n",
       "      <td>28</td>\n",
       "      <td>2016-03-28 20:01:23</td>\n",
       "      <td>256</td>\n",
       "      <td>Yes</td>\n",
       "      <td>Fashion</td>\n",
       "      <td>0</td>\n",
       "      <td>23</td>\n",
       "      <td>No</td>\n",
       "      <td>361.0</td>\n",
       "      <td>11.0</td>\n",
       "      <td>4018.0</td>\n",
       "      <td>27827.0</td>\n",
       "      <td>16260.257475</td>\n",
       "    </tr>\n",
       "  </tbody>\n",
       "</table>\n",
       "</div>"
      ],
      "text/plain": [
       "            Product_id  Stall_no        instock_date  Market_Category  \\\n",
       "13    GLSEHPS9CJATDCTY        45 2016-03-10 07:40:07              186   \n",
       "237   PCSECV3FHFGEG7FG        22 2016-03-28 21:03:11              358   \n",
       "1610  WATDWABR2QMHU2YK        14 2016-03-28 20:04:08              183   \n",
       "3344  KRTE8BQ3PS5DHXTC        41 2016-03-28 20:43:01              358   \n",
       "3559  ACCDXFFDW2X8MRFF        47 2016-03-18 19:37:22              256   \n",
       "4896  WATDJTR9HJQGBGWG        28 2016-03-28 20:01:23              256   \n",
       "\n",
       "     Loyalty_customer Product_Category  Grade  Demand Discount_avail  \\\n",
       "13                Yes        Cosmetics      0      38            Yes   \n",
       "237               Yes      Hospitality      3     100             No   \n",
       "1610              Yes      Hospitality      2      71            Yes   \n",
       "3344              Yes       Technology      3      15             No   \n",
       "3559              Yes        Cosmetics      0      19             No   \n",
       "4896              Yes          Fashion      0      23             No   \n",
       "\n",
       "      charges_1  charges_2 (%)  Minimum_price  Maximum_price  Selling_Price  \n",
       "13        291.0           17.0         3657.0        58812.0    4724.948025  \n",
       "237       342.0           13.0        10616.0        26236.0   18369.131125  \n",
       "1610      206.0           14.0        11872.0        26712.0    2899.463985  \n",
       "3344      527.0           12.0         8860.0        26082.0   18017.168103  \n",
       "3559      287.0           15.0         6221.0        26878.0   16859.633868  \n",
       "4896      361.0           11.0         4018.0        27827.0   16260.257475  "
      ]
     },
     "execution_count": 59,
     "metadata": {},
     "output_type": "execute_result"
    }
   ],
   "source": [
    "data[data['Maximum_price'] > upper_limit]"
   ]
  },
  {
   "cell_type": "code",
   "execution_count": 60,
   "metadata": {},
   "outputs": [],
   "source": [
    "# removing outliers from Maximum_price feature\n",
    "data.drop(data[data['Maximum_price'] > upper_limit].index, axis =0, inplace = True)"
   ]
  },
  {
   "cell_type": "code",
   "execution_count": 61,
   "metadata": {},
   "outputs": [],
   "source": [
    "# By only remvoing outliers from the Maximum_price feature, RMSE is 336.\n",
    "# By removing outliers from the Maximum_price feature RMSE increased by 100"
   ]
  },
  {
   "cell_type": "code",
   "execution_count": null,
   "metadata": {},
   "outputs": [],
   "source": []
  },
  {
   "cell_type": "code",
   "execution_count": 62,
   "metadata": {},
   "outputs": [
    {
     "data": {
      "text/plain": [
       "3721.2187155"
      ]
     },
     "execution_count": 62,
     "metadata": {},
     "output_type": "execute_result"
    }
   ],
   "source": [
    "q1 = data['Selling_Price'].quantile(0.25)\n",
    "q3 = data['Selling_Price'].quantile(0.75)\n",
    "IQR = q3 - q1\n",
    "IQR"
   ]
  },
  {
   "cell_type": "code",
   "execution_count": 63,
   "metadata": {},
   "outputs": [
    {
     "data": {
      "text/plain": [
       "19178.799669750002"
      ]
     },
     "execution_count": 63,
     "metadata": {},
     "output_type": "execute_result"
    }
   ],
   "source": [
    "upper_limit = q3 + 3.5*IQR\n",
    "upper_limit"
   ]
  },
  {
   "cell_type": "code",
   "execution_count": 64,
   "metadata": {},
   "outputs": [
    {
     "data": {
      "text/plain": [
       "-3148.5126232500006"
      ]
     },
     "execution_count": 64,
     "metadata": {},
     "output_type": "execute_result"
    }
   ],
   "source": [
    "lower_limit = q1 - 1.5*IQR\n",
    "lower_limit"
   ]
  },
  {
   "cell_type": "code",
   "execution_count": 65,
   "metadata": {},
   "outputs": [
    {
     "data": {
      "text/html": [
       "<div>\n",
       "<style scoped>\n",
       "    .dataframe tbody tr th:only-of-type {\n",
       "        vertical-align: middle;\n",
       "    }\n",
       "\n",
       "    .dataframe tbody tr th {\n",
       "        vertical-align: top;\n",
       "    }\n",
       "\n",
       "    .dataframe thead th {\n",
       "        text-align: right;\n",
       "    }\n",
       "</style>\n",
       "<table border=\"1\" class=\"dataframe\">\n",
       "  <thead>\n",
       "    <tr style=\"text-align: right;\">\n",
       "      <th></th>\n",
       "      <th>Product_id</th>\n",
       "      <th>Stall_no</th>\n",
       "      <th>instock_date</th>\n",
       "      <th>Market_Category</th>\n",
       "      <th>Loyalty_customer</th>\n",
       "      <th>Product_Category</th>\n",
       "      <th>Grade</th>\n",
       "      <th>Demand</th>\n",
       "      <th>Discount_avail</th>\n",
       "      <th>charges_1</th>\n",
       "      <th>charges_2 (%)</th>\n",
       "      <th>Minimum_price</th>\n",
       "      <th>Maximum_price</th>\n",
       "      <th>Selling_Price</th>\n",
       "    </tr>\n",
       "  </thead>\n",
       "  <tbody>\n",
       "    <tr>\n",
       "      <td>3775</td>\n",
       "      <td>WATEYAP32CYSTUGF</td>\n",
       "      <td>28</td>\n",
       "      <td>2016-03-28 21:40:20</td>\n",
       "      <td>234</td>\n",
       "      <td>Yes</td>\n",
       "      <td>Repair</td>\n",
       "      <td>1</td>\n",
       "      <td>84</td>\n",
       "      <td>No</td>\n",
       "      <td>278.0</td>\n",
       "      <td>4.0</td>\n",
       "      <td>14431.0</td>\n",
       "      <td>24362.0</td>\n",
       "      <td>19398.835456</td>\n",
       "    </tr>\n",
       "  </tbody>\n",
       "</table>\n",
       "</div>"
      ],
      "text/plain": [
       "            Product_id  Stall_no        instock_date  Market_Category  \\\n",
       "3775  WATEYAP32CYSTUGF        28 2016-03-28 21:40:20              234   \n",
       "\n",
       "     Loyalty_customer Product_Category  Grade  Demand Discount_avail  \\\n",
       "3775              Yes           Repair      1      84             No   \n",
       "\n",
       "      charges_1  charges_2 (%)  Minimum_price  Maximum_price  Selling_Price  \n",
       "3775      278.0            4.0        14431.0        24362.0   19398.835456  "
      ]
     },
     "execution_count": 65,
     "metadata": {},
     "output_type": "execute_result"
    }
   ],
   "source": [
    "data[data['Selling_Price'] > upper_limit]"
   ]
  },
  {
   "cell_type": "code",
   "execution_count": 66,
   "metadata": {},
   "outputs": [],
   "source": [
    "# removing outliers from Selling_price feature\n",
    "data.drop(data[data['Selling_Price'] > upper_limit].index, axis =0, inplace = True)"
   ]
  },
  {
   "cell_type": "code",
   "execution_count": 67,
   "metadata": {},
   "outputs": [],
   "source": [
    "# after removing only Selling_price feature outliers, RMSE is 353\n",
    "# After removing all the outliers, RMSE was 316.\n",
    "# So after removing all the outliers, RMSE was the least i.e 316."
   ]
  },
  {
   "cell_type": "code",
   "execution_count": 68,
   "metadata": {},
   "outputs": [
    {
     "data": {
      "image/png": "[encoded data removed]",
      "text/plain": [
       "<Figure size 1440x360 with 3 Axes>"
      ]
     },
     "metadata": {
      "needs_background": "light"
     },
     "output_type": "display_data"
    }
   ],
   "source": [
    "fig, axes = plt.subplots(1,3, figsize = (20,5))\n",
    "sns.distplot(data['Minimum_price'],  ax = axes[0])\n",
    "sns.distplot(data['Maximum_price'], ax = axes[1])\n",
    "sns.distplot(data['Selling_Price'], ax = axes[2])\n",
    "plt.show()"
   ]
  },
  {
   "cell_type": "markdown",
   "metadata": {},
   "source": [
    "# Feature Engineering"
   ]
  },
  {
   "cell_type": "code",
   "execution_count": 69,
   "metadata": {},
   "outputs": [],
   "source": [
    "from sklearn.preprocessing import LabelEncoder\n",
    "lb = LabelEncoder()\n",
    "data[\"Product_id\"] = lb.fit_transform(data[\"Product_id\"])"
   ]
  },
  {
   "cell_type": "code",
   "execution_count": 70,
   "metadata": {},
   "outputs": [],
   "source": [
    "test[\"Product_id\"] = lb.fit_transform(test[\"Product_id\"])"
   ]
  },
  {
   "cell_type": "code",
   "execution_count": 71,
   "metadata": {},
   "outputs": [
    {
     "data": {
      "text/html": [
       "<div>\n",
       "<style scoped>\n",
       "    .dataframe tbody tr th:only-of-type {\n",
       "        vertical-align: middle;\n",
       "    }\n",
       "\n",
       "    .dataframe tbody tr th {\n",
       "        vertical-align: top;\n",
       "    }\n",
       "\n",
       "    .dataframe thead th {\n",
       "        text-align: right;\n",
       "    }\n",
       "</style>\n",
       "<table border=\"1\" class=\"dataframe\">\n",
       "  <thead>\n",
       "    <tr style=\"text-align: right;\">\n",
       "      <th></th>\n",
       "      <th>Product_id</th>\n",
       "      <th>Stall_no</th>\n",
       "      <th>instock_date</th>\n",
       "      <th>Market_Category</th>\n",
       "      <th>Loyalty_customer</th>\n",
       "      <th>Product_Category</th>\n",
       "      <th>Grade</th>\n",
       "      <th>Demand</th>\n",
       "      <th>Discount_avail</th>\n",
       "      <th>charges_1</th>\n",
       "      <th>charges_2 (%)</th>\n",
       "      <th>Minimum_price</th>\n",
       "      <th>Maximum_price</th>\n",
       "      <th>Selling_Price</th>\n",
       "    </tr>\n",
       "  </thead>\n",
       "  <tbody>\n",
       "    <tr>\n",
       "      <td>0</td>\n",
       "      <td>534</td>\n",
       "      <td>37</td>\n",
       "      <td>2015-08-22 18:36:12</td>\n",
       "      <td>2</td>\n",
       "      <td>Yes</td>\n",
       "      <td>Fashion</td>\n",
       "      <td>1</td>\n",
       "      <td>68</td>\n",
       "      <td>No</td>\n",
       "      <td>376.0</td>\n",
       "      <td>11.0</td>\n",
       "      <td>2983.0</td>\n",
       "      <td>4713.0</td>\n",
       "      <td>4185.947700</td>\n",
       "    </tr>\n",
       "    <tr>\n",
       "      <td>1</td>\n",
       "      <td>5892</td>\n",
       "      <td>38</td>\n",
       "      <td>2016-03-27 21:19:13</td>\n",
       "      <td>24</td>\n",
       "      <td>Yes</td>\n",
       "      <td>Fashion</td>\n",
       "      <td>0</td>\n",
       "      <td>51</td>\n",
       "      <td>No</td>\n",
       "      <td>397.0</td>\n",
       "      <td>12.0</td>\n",
       "      <td>7495.0</td>\n",
       "      <td>10352.0</td>\n",
       "      <td>9271.490256</td>\n",
       "    </tr>\n",
       "    <tr>\n",
       "      <td>2</td>\n",
       "      <td>804</td>\n",
       "      <td>9</td>\n",
       "      <td>2015-08-18 19:25:22</td>\n",
       "      <td>447</td>\n",
       "      <td>Yes</td>\n",
       "      <td>Child_care</td>\n",
       "      <td>0</td>\n",
       "      <td>10</td>\n",
       "      <td>No</td>\n",
       "      <td>250.0</td>\n",
       "      <td>9.0</td>\n",
       "      <td>5752.0</td>\n",
       "      <td>7309.0</td>\n",
       "      <td>6785.701362</td>\n",
       "    </tr>\n",
       "    <tr>\n",
       "      <td>3</td>\n",
       "      <td>6087</td>\n",
       "      <td>50</td>\n",
       "      <td>2016-03-28 21:53:01</td>\n",
       "      <td>23</td>\n",
       "      <td>Yes</td>\n",
       "      <td>Educational</td>\n",
       "      <td>2</td>\n",
       "      <td>48</td>\n",
       "      <td>No</td>\n",
       "      <td>144.0</td>\n",
       "      <td>13.0</td>\n",
       "      <td>5090.0</td>\n",
       "      <td>20814.0</td>\n",
       "      <td>13028.917824</td>\n",
       "    </tr>\n",
       "    <tr>\n",
       "      <td>4</td>\n",
       "      <td>2309</td>\n",
       "      <td>7</td>\n",
       "      <td>2016-03-29 22:58:53</td>\n",
       "      <td>63</td>\n",
       "      <td>Yes</td>\n",
       "      <td>Repair</td>\n",
       "      <td>1</td>\n",
       "      <td>35</td>\n",
       "      <td>Yes</td>\n",
       "      <td>211.0</td>\n",
       "      <td>4.0</td>\n",
       "      <td>2430.0</td>\n",
       "      <td>9261.0</td>\n",
       "      <td>906.553935</td>\n",
       "    </tr>\n",
       "  </tbody>\n",
       "</table>\n",
       "</div>"
      ],
      "text/plain": [
       "   Product_id  Stall_no        instock_date  Market_Category Loyalty_customer  \\\n",
       "0         534        37 2015-08-22 18:36:12                2              Yes   \n",
       "1        5892        38 2016-03-27 21:19:13               24              Yes   \n",
       "2         804         9 2015-08-18 19:25:22              447              Yes   \n",
       "3        6087        50 2016-03-28 21:53:01               23              Yes   \n",
       "4        2309         7 2016-03-29 22:58:53               63              Yes   \n",
       "\n",
       "  Product_Category  Grade  Demand Discount_avail  charges_1  charges_2 (%)  \\\n",
       "0          Fashion      1      68             No      376.0           11.0   \n",
       "1          Fashion      0      51             No      397.0           12.0   \n",
       "2       Child_care      0      10             No      250.0            9.0   \n",
       "3      Educational      2      48             No      144.0           13.0   \n",
       "4           Repair      1      35            Yes      211.0            4.0   \n",
       "\n",
       "   Minimum_price  Maximum_price  Selling_Price  \n",
       "0         2983.0         4713.0    4185.947700  \n",
       "1         7495.0        10352.0    9271.490256  \n",
       "2         5752.0         7309.0    6785.701362  \n",
       "3         5090.0        20814.0   13028.917824  \n",
       "4         2430.0         9261.0     906.553935  "
      ]
     },
     "execution_count": 71,
     "metadata": {},
     "output_type": "execute_result"
    }
   ],
   "source": [
    "data.head()"
   ]
  },
  {
   "cell_type": "code",
   "execution_count": 72,
   "metadata": {},
   "outputs": [],
   "source": [
    "#test[\"Product_id\"] = lb.inverse_transform(test[\"Product_id\"])"
   ]
  },
  {
   "cell_type": "code",
   "execution_count": 73,
   "metadata": {},
   "outputs": [
    {
     "data": {
      "text/plain": [
       "(3430, 13)"
      ]
     },
     "execution_count": 73,
     "metadata": {},
     "output_type": "execute_result"
    }
   ],
   "source": [
    "test.shape"
   ]
  },
  {
   "cell_type": "code",
   "execution_count": 74,
   "metadata": {},
   "outputs": [],
   "source": [
    "data[\"Discount_avail\"] = lb.fit_transform(data[\"Discount_avail\"])"
   ]
  },
  {
   "cell_type": "code",
   "execution_count": 75,
   "metadata": {},
   "outputs": [],
   "source": [
    "test[\"Discount_avail\"] = lb.fit_transform(test[\"Discount_avail\"])"
   ]
  },
  {
   "cell_type": "code",
   "execution_count": 76,
   "metadata": {},
   "outputs": [],
   "source": [
    "data[\"Loyalty_customer\"] = lb.fit_transform(data[\"Loyalty_customer\"])"
   ]
  },
  {
   "cell_type": "code",
   "execution_count": 77,
   "metadata": {},
   "outputs": [],
   "source": [
    "test[\"Loyalty_customer\"] = lb.fit_transform(test[\"Loyalty_customer\"])"
   ]
  },
  {
   "cell_type": "code",
   "execution_count": 78,
   "metadata": {},
   "outputs": [],
   "source": [
    "data.drop(\"instock_date\", inplace = True, axis =1)\n",
    "test.drop(\"instock_date\", inplace = True, axis =1)"
   ]
  },
  {
   "cell_type": "code",
   "execution_count": 79,
   "metadata": {},
   "outputs": [
    {
     "data": {
      "text/plain": [
       "(3430, 12)"
      ]
     },
     "execution_count": 79,
     "metadata": {},
     "output_type": "execute_result"
    }
   ],
   "source": [
    "test.shape"
   ]
  },
  {
   "cell_type": "code",
   "execution_count": 80,
   "metadata": {},
   "outputs": [
    {
     "data": {
      "text/html": [
       "<div>\n",
       "<style scoped>\n",
       "    .dataframe tbody tr th:only-of-type {\n",
       "        vertical-align: middle;\n",
       "    }\n",
       "\n",
       "    .dataframe tbody tr th {\n",
       "        vertical-align: top;\n",
       "    }\n",
       "\n",
       "    .dataframe thead th {\n",
       "        text-align: right;\n",
       "    }\n",
       "</style>\n",
       "<table border=\"1\" class=\"dataframe\">\n",
       "  <thead>\n",
       "    <tr style=\"text-align: right;\">\n",
       "      <th>Product_Category</th>\n",
       "      <th>Cosmetics</th>\n",
       "      <th>Educational</th>\n",
       "      <th>Fashion</th>\n",
       "      <th>Home_decor</th>\n",
       "      <th>Hospitality</th>\n",
       "      <th>Organic</th>\n",
       "      <th>Pet_care</th>\n",
       "      <th>Repair</th>\n",
       "      <th>Technology</th>\n",
       "    </tr>\n",
       "  </thead>\n",
       "  <tbody>\n",
       "    <tr>\n",
       "      <td>0</td>\n",
       "      <td>0</td>\n",
       "      <td>0</td>\n",
       "      <td>1</td>\n",
       "      <td>0</td>\n",
       "      <td>0</td>\n",
       "      <td>0</td>\n",
       "      <td>0</td>\n",
       "      <td>0</td>\n",
       "      <td>0</td>\n",
       "    </tr>\n",
       "    <tr>\n",
       "      <td>1</td>\n",
       "      <td>0</td>\n",
       "      <td>0</td>\n",
       "      <td>1</td>\n",
       "      <td>0</td>\n",
       "      <td>0</td>\n",
       "      <td>0</td>\n",
       "      <td>0</td>\n",
       "      <td>0</td>\n",
       "      <td>0</td>\n",
       "    </tr>\n",
       "    <tr>\n",
       "      <td>2</td>\n",
       "      <td>0</td>\n",
       "      <td>0</td>\n",
       "      <td>0</td>\n",
       "      <td>0</td>\n",
       "      <td>0</td>\n",
       "      <td>0</td>\n",
       "      <td>0</td>\n",
       "      <td>0</td>\n",
       "      <td>0</td>\n",
       "    </tr>\n",
       "    <tr>\n",
       "      <td>3</td>\n",
       "      <td>0</td>\n",
       "      <td>1</td>\n",
       "      <td>0</td>\n",
       "      <td>0</td>\n",
       "      <td>0</td>\n",
       "      <td>0</td>\n",
       "      <td>0</td>\n",
       "      <td>0</td>\n",
       "      <td>0</td>\n",
       "    </tr>\n",
       "    <tr>\n",
       "      <td>4</td>\n",
       "      <td>0</td>\n",
       "      <td>0</td>\n",
       "      <td>0</td>\n",
       "      <td>0</td>\n",
       "      <td>0</td>\n",
       "      <td>0</td>\n",
       "      <td>0</td>\n",
       "      <td>1</td>\n",
       "      <td>0</td>\n",
       "    </tr>\n",
       "  </tbody>\n",
       "</table>\n",
       "</div>"
      ],
      "text/plain": [
       "Product_Category  Cosmetics  Educational  Fashion  Home_decor  Hospitality  \\\n",
       "0                         0            0        1           0            0   \n",
       "1                         0            0        1           0            0   \n",
       "2                         0            0        0           0            0   \n",
       "3                         0            1        0           0            0   \n",
       "4                         0            0        0           0            0   \n",
       "\n",
       "Product_Category  Organic  Pet_care  Repair  Technology  \n",
       "0                       0         0       0           0  \n",
       "1                       0         0       0           0  \n",
       "2                       0         0       0           0  \n",
       "3                       0         0       0           0  \n",
       "4                       0         0       1           0  "
      ]
     },
     "execution_count": 80,
     "metadata": {},
     "output_type": "execute_result"
    }
   ],
   "source": [
    "Product_Category = data['Product_Category']\n",
    "Product_Category = pd.get_dummies(Product_Category, drop_first = True)\n",
    "\n",
    "Product_Category.head()"
   ]
  },
  {
   "cell_type": "code",
   "execution_count": 81,
   "metadata": {},
   "outputs": [
    {
     "data": {
      "text/html": [
       "<div>\n",
       "<style scoped>\n",
       "    .dataframe tbody tr th:only-of-type {\n",
       "        vertical-align: middle;\n",
       "    }\n",
       "\n",
       "    .dataframe tbody tr th {\n",
       "        vertical-align: top;\n",
       "    }\n",
       "\n",
       "    .dataframe thead th {\n",
       "        text-align: right;\n",
       "    }\n",
       "</style>\n",
       "<table border=\"1\" class=\"dataframe\">\n",
       "  <thead>\n",
       "    <tr style=\"text-align: right;\">\n",
       "      <th></th>\n",
       "      <th>Product_id</th>\n",
       "      <th>Stall_no</th>\n",
       "      <th>Market_Category</th>\n",
       "      <th>Loyalty_customer</th>\n",
       "      <th>Grade</th>\n",
       "      <th>Demand</th>\n",
       "      <th>Discount_avail</th>\n",
       "      <th>charges_1</th>\n",
       "      <th>charges_2 (%)</th>\n",
       "      <th>Minimum_price</th>\n",
       "      <th>...</th>\n",
       "      <th>Selling_Price</th>\n",
       "      <th>Cosmetics</th>\n",
       "      <th>Educational</th>\n",
       "      <th>Fashion</th>\n",
       "      <th>Home_decor</th>\n",
       "      <th>Hospitality</th>\n",
       "      <th>Organic</th>\n",
       "      <th>Pet_care</th>\n",
       "      <th>Repair</th>\n",
       "      <th>Technology</th>\n",
       "    </tr>\n",
       "  </thead>\n",
       "  <tbody>\n",
       "    <tr>\n",
       "      <td>0</td>\n",
       "      <td>534</td>\n",
       "      <td>37</td>\n",
       "      <td>2</td>\n",
       "      <td>1</td>\n",
       "      <td>1</td>\n",
       "      <td>68</td>\n",
       "      <td>0</td>\n",
       "      <td>376.0</td>\n",
       "      <td>11.0</td>\n",
       "      <td>2983.0</td>\n",
       "      <td>...</td>\n",
       "      <td>4185.947700</td>\n",
       "      <td>0</td>\n",
       "      <td>0</td>\n",
       "      <td>1</td>\n",
       "      <td>0</td>\n",
       "      <td>0</td>\n",
       "      <td>0</td>\n",
       "      <td>0</td>\n",
       "      <td>0</td>\n",
       "      <td>0</td>\n",
       "    </tr>\n",
       "    <tr>\n",
       "      <td>1</td>\n",
       "      <td>5892</td>\n",
       "      <td>38</td>\n",
       "      <td>24</td>\n",
       "      <td>1</td>\n",
       "      <td>0</td>\n",
       "      <td>51</td>\n",
       "      <td>0</td>\n",
       "      <td>397.0</td>\n",
       "      <td>12.0</td>\n",
       "      <td>7495.0</td>\n",
       "      <td>...</td>\n",
       "      <td>9271.490256</td>\n",
       "      <td>0</td>\n",
       "      <td>0</td>\n",
       "      <td>1</td>\n",
       "      <td>0</td>\n",
       "      <td>0</td>\n",
       "      <td>0</td>\n",
       "      <td>0</td>\n",
       "      <td>0</td>\n",
       "      <td>0</td>\n",
       "    </tr>\n",
       "    <tr>\n",
       "      <td>2</td>\n",
       "      <td>804</td>\n",
       "      <td>9</td>\n",
       "      <td>447</td>\n",
       "      <td>1</td>\n",
       "      <td>0</td>\n",
       "      <td>10</td>\n",
       "      <td>0</td>\n",
       "      <td>250.0</td>\n",
       "      <td>9.0</td>\n",
       "      <td>5752.0</td>\n",
       "      <td>...</td>\n",
       "      <td>6785.701362</td>\n",
       "      <td>0</td>\n",
       "      <td>0</td>\n",
       "      <td>0</td>\n",
       "      <td>0</td>\n",
       "      <td>0</td>\n",
       "      <td>0</td>\n",
       "      <td>0</td>\n",
       "      <td>0</td>\n",
       "      <td>0</td>\n",
       "    </tr>\n",
       "    <tr>\n",
       "      <td>3</td>\n",
       "      <td>6087</td>\n",
       "      <td>50</td>\n",
       "      <td>23</td>\n",
       "      <td>1</td>\n",
       "      <td>2</td>\n",
       "      <td>48</td>\n",
       "      <td>0</td>\n",
       "      <td>144.0</td>\n",
       "      <td>13.0</td>\n",
       "      <td>5090.0</td>\n",
       "      <td>...</td>\n",
       "      <td>13028.917824</td>\n",
       "      <td>0</td>\n",
       "      <td>1</td>\n",
       "      <td>0</td>\n",
       "      <td>0</td>\n",
       "      <td>0</td>\n",
       "      <td>0</td>\n",
       "      <td>0</td>\n",
       "      <td>0</td>\n",
       "      <td>0</td>\n",
       "    </tr>\n",
       "    <tr>\n",
       "      <td>4</td>\n",
       "      <td>2309</td>\n",
       "      <td>7</td>\n",
       "      <td>63</td>\n",
       "      <td>1</td>\n",
       "      <td>1</td>\n",
       "      <td>35</td>\n",
       "      <td>1</td>\n",
       "      <td>211.0</td>\n",
       "      <td>4.0</td>\n",
       "      <td>2430.0</td>\n",
       "      <td>...</td>\n",
       "      <td>906.553935</td>\n",
       "      <td>0</td>\n",
       "      <td>0</td>\n",
       "      <td>0</td>\n",
       "      <td>0</td>\n",
       "      <td>0</td>\n",
       "      <td>0</td>\n",
       "      <td>0</td>\n",
       "      <td>1</td>\n",
       "      <td>0</td>\n",
       "    </tr>\n",
       "  </tbody>\n",
       "</table>\n",
       "<p>5 rows × 21 columns</p>\n",
       "</div>"
      ],
      "text/plain": [
       "   Product_id  Stall_no  Market_Category  Loyalty_customer  Grade  Demand  \\\n",
       "0         534        37                2                 1      1      68   \n",
       "1        5892        38               24                 1      0      51   \n",
       "2         804         9              447                 1      0      10   \n",
       "3        6087        50               23                 1      2      48   \n",
       "4        2309         7               63                 1      1      35   \n",
       "\n",
       "   Discount_avail  charges_1  charges_2 (%)  Minimum_price  ...  \\\n",
       "0               0      376.0           11.0         2983.0  ...   \n",
       "1               0      397.0           12.0         7495.0  ...   \n",
       "2               0      250.0            9.0         5752.0  ...   \n",
       "3               0      144.0           13.0         5090.0  ...   \n",
       "4               1      211.0            4.0         2430.0  ...   \n",
       "\n",
       "   Selling_Price  Cosmetics  Educational  Fashion  Home_decor  Hospitality  \\\n",
       "0    4185.947700          0            0        1           0            0   \n",
       "1    9271.490256          0            0        1           0            0   \n",
       "2    6785.701362          0            0        0           0            0   \n",
       "3   13028.917824          0            1        0           0            0   \n",
       "4     906.553935          0            0        0           0            0   \n",
       "\n",
       "   Organic  Pet_care  Repair  Technology  \n",
       "0        0         0       0           0  \n",
       "1        0         0       0           0  \n",
       "2        0         0       0           0  \n",
       "3        0         0       0           0  \n",
       "4        0         0       1           0  \n",
       "\n",
       "[5 rows x 21 columns]"
      ]
     },
     "execution_count": 81,
     "metadata": {},
     "output_type": "execute_result"
    }
   ],
   "source": [
    "df = pd.concat([data,Product_Category], axis = 1)\n",
    "df.drop(['Product_Category'], axis =1, inplace = True)\n",
    "df.head()"
   ]
  },
  {
   "cell_type": "code",
   "execution_count": 82,
   "metadata": {},
   "outputs": [
    {
     "data": {
      "text/plain": [
       "(6306, 21)"
      ]
     },
     "execution_count": 82,
     "metadata": {},
     "output_type": "execute_result"
    }
   ],
   "source": [
    "df.shape"
   ]
  },
  {
   "cell_type": "code",
   "execution_count": 83,
   "metadata": {},
   "outputs": [
    {
     "data": {
      "text/plain": [
       "(3430, 12)"
      ]
     },
     "execution_count": 83,
     "metadata": {},
     "output_type": "execute_result"
    }
   ],
   "source": [
    "test.shape"
   ]
  },
  {
   "cell_type": "code",
   "execution_count": 84,
   "metadata": {},
   "outputs": [
    {
     "data": {
      "text/html": [
       "<div>\n",
       "<style scoped>\n",
       "    .dataframe tbody tr th:only-of-type {\n",
       "        vertical-align: middle;\n",
       "    }\n",
       "\n",
       "    .dataframe tbody tr th {\n",
       "        vertical-align: top;\n",
       "    }\n",
       "\n",
       "    .dataframe thead th {\n",
       "        text-align: right;\n",
       "    }\n",
       "</style>\n",
       "<table border=\"1\" class=\"dataframe\">\n",
       "  <thead>\n",
       "    <tr style=\"text-align: right;\">\n",
       "      <th>Product_Category</th>\n",
       "      <th>Cosmetics</th>\n",
       "      <th>Educational</th>\n",
       "      <th>Fashion</th>\n",
       "      <th>Home_decor</th>\n",
       "      <th>Hospitality</th>\n",
       "      <th>Organic</th>\n",
       "      <th>Pet_care</th>\n",
       "      <th>Repair</th>\n",
       "      <th>Technology</th>\n",
       "    </tr>\n",
       "  </thead>\n",
       "  <tbody>\n",
       "    <tr>\n",
       "      <td>0</td>\n",
       "      <td>0</td>\n",
       "      <td>0</td>\n",
       "      <td>1</td>\n",
       "      <td>0</td>\n",
       "      <td>0</td>\n",
       "      <td>0</td>\n",
       "      <td>0</td>\n",
       "      <td>0</td>\n",
       "      <td>0</td>\n",
       "    </tr>\n",
       "    <tr>\n",
       "      <td>1</td>\n",
       "      <td>0</td>\n",
       "      <td>0</td>\n",
       "      <td>1</td>\n",
       "      <td>0</td>\n",
       "      <td>0</td>\n",
       "      <td>0</td>\n",
       "      <td>0</td>\n",
       "      <td>0</td>\n",
       "      <td>0</td>\n",
       "    </tr>\n",
       "    <tr>\n",
       "      <td>2</td>\n",
       "      <td>0</td>\n",
       "      <td>0</td>\n",
       "      <td>0</td>\n",
       "      <td>0</td>\n",
       "      <td>0</td>\n",
       "      <td>0</td>\n",
       "      <td>0</td>\n",
       "      <td>0</td>\n",
       "      <td>1</td>\n",
       "    </tr>\n",
       "    <tr>\n",
       "      <td>3</td>\n",
       "      <td>0</td>\n",
       "      <td>0</td>\n",
       "      <td>0</td>\n",
       "      <td>0</td>\n",
       "      <td>0</td>\n",
       "      <td>0</td>\n",
       "      <td>0</td>\n",
       "      <td>0</td>\n",
       "      <td>0</td>\n",
       "    </tr>\n",
       "    <tr>\n",
       "      <td>4</td>\n",
       "      <td>0</td>\n",
       "      <td>0</td>\n",
       "      <td>0</td>\n",
       "      <td>0</td>\n",
       "      <td>0</td>\n",
       "      <td>0</td>\n",
       "      <td>0</td>\n",
       "      <td>0</td>\n",
       "      <td>1</td>\n",
       "    </tr>\n",
       "  </tbody>\n",
       "</table>\n",
       "</div>"
      ],
      "text/plain": [
       "Product_Category  Cosmetics  Educational  Fashion  Home_decor  Hospitality  \\\n",
       "0                         0            0        1           0            0   \n",
       "1                         0            0        1           0            0   \n",
       "2                         0            0        0           0            0   \n",
       "3                         0            0        0           0            0   \n",
       "4                         0            0        0           0            0   \n",
       "\n",
       "Product_Category  Organic  Pet_care  Repair  Technology  \n",
       "0                       0         0       0           0  \n",
       "1                       0         0       0           0  \n",
       "2                       0         0       0           1  \n",
       "3                       0         0       0           0  \n",
       "4                       0         0       0           1  "
      ]
     },
     "execution_count": 84,
     "metadata": {},
     "output_type": "execute_result"
    }
   ],
   "source": [
    "Product_Cat = test['Product_Category']\n",
    "Product_Cat = pd.get_dummies(Product_Cat, drop_first = True)\n",
    "\n",
    "Product_Cat.head()"
   ]
  },
  {
   "cell_type": "code",
   "execution_count": 85,
   "metadata": {},
   "outputs": [
    {
     "data": {
      "text/html": [
       "<div>\n",
       "<style scoped>\n",
       "    .dataframe tbody tr th:only-of-type {\n",
       "        vertical-align: middle;\n",
       "    }\n",
       "\n",
       "    .dataframe tbody tr th {\n",
       "        vertical-align: top;\n",
       "    }\n",
       "\n",
       "    .dataframe thead th {\n",
       "        text-align: right;\n",
       "    }\n",
       "</style>\n",
       "<table border=\"1\" class=\"dataframe\">\n",
       "  <thead>\n",
       "    <tr style=\"text-align: right;\">\n",
       "      <th></th>\n",
       "      <th>Product_id</th>\n",
       "      <th>Stall_no</th>\n",
       "      <th>Market_Category</th>\n",
       "      <th>Loyalty_customer</th>\n",
       "      <th>Grade</th>\n",
       "      <th>Demand</th>\n",
       "      <th>Discount_avail</th>\n",
       "      <th>charges_1</th>\n",
       "      <th>charges_2 (%)</th>\n",
       "      <th>Minimum_price</th>\n",
       "      <th>Maximum_price</th>\n",
       "      <th>Cosmetics</th>\n",
       "      <th>Educational</th>\n",
       "      <th>Fashion</th>\n",
       "      <th>Home_decor</th>\n",
       "      <th>Hospitality</th>\n",
       "      <th>Organic</th>\n",
       "      <th>Pet_care</th>\n",
       "      <th>Repair</th>\n",
       "      <th>Technology</th>\n",
       "    </tr>\n",
       "  </thead>\n",
       "  <tbody>\n",
       "    <tr>\n",
       "      <td>0</td>\n",
       "      <td>2508</td>\n",
       "      <td>39</td>\n",
       "      <td>205</td>\n",
       "      <td>0</td>\n",
       "      <td>0</td>\n",
       "      <td>90</td>\n",
       "      <td>0</td>\n",
       "      <td>380.0</td>\n",
       "      <td>16.0</td>\n",
       "      <td>2576.0</td>\n",
       "      <td>3340</td>\n",
       "      <td>0</td>\n",
       "      <td>0</td>\n",
       "      <td>1</td>\n",
       "      <td>0</td>\n",
       "      <td>0</td>\n",
       "      <td>0</td>\n",
       "      <td>0</td>\n",
       "      <td>0</td>\n",
       "      <td>0</td>\n",
       "    </tr>\n",
       "    <tr>\n",
       "      <td>1</td>\n",
       "      <td>113</td>\n",
       "      <td>49</td>\n",
       "      <td>3</td>\n",
       "      <td>1</td>\n",
       "      <td>0</td>\n",
       "      <td>87</td>\n",
       "      <td>0</td>\n",
       "      <td>393.0</td>\n",
       "      <td>16.0</td>\n",
       "      <td>1202.0</td>\n",
       "      <td>1955</td>\n",
       "      <td>0</td>\n",
       "      <td>0</td>\n",
       "      <td>1</td>\n",
       "      <td>0</td>\n",
       "      <td>0</td>\n",
       "      <td>0</td>\n",
       "      <td>0</td>\n",
       "      <td>0</td>\n",
       "      <td>0</td>\n",
       "    </tr>\n",
       "    <tr>\n",
       "      <td>2</td>\n",
       "      <td>1611</td>\n",
       "      <td>1</td>\n",
       "      <td>183</td>\n",
       "      <td>0</td>\n",
       "      <td>2</td>\n",
       "      <td>55</td>\n",
       "      <td>0</td>\n",
       "      <td>493.0</td>\n",
       "      <td>9.0</td>\n",
       "      <td>7175.0</td>\n",
       "      <td>15715</td>\n",
       "      <td>0</td>\n",
       "      <td>0</td>\n",
       "      <td>0</td>\n",
       "      <td>0</td>\n",
       "      <td>0</td>\n",
       "      <td>0</td>\n",
       "      <td>0</td>\n",
       "      <td>0</td>\n",
       "      <td>1</td>\n",
       "    </tr>\n",
       "    <tr>\n",
       "      <td>3</td>\n",
       "      <td>1849</td>\n",
       "      <td>8</td>\n",
       "      <td>358</td>\n",
       "      <td>1</td>\n",
       "      <td>3</td>\n",
       "      <td>86</td>\n",
       "      <td>0</td>\n",
       "      <td>303.0</td>\n",
       "      <td>16.0</td>\n",
       "      <td>5404.0</td>\n",
       "      <td>13078</td>\n",
       "      <td>0</td>\n",
       "      <td>0</td>\n",
       "      <td>0</td>\n",
       "      <td>0</td>\n",
       "      <td>0</td>\n",
       "      <td>0</td>\n",
       "      <td>0</td>\n",
       "      <td>0</td>\n",
       "      <td>0</td>\n",
       "    </tr>\n",
       "    <tr>\n",
       "      <td>4</td>\n",
       "      <td>3125</td>\n",
       "      <td>33</td>\n",
       "      <td>167</td>\n",
       "      <td>0</td>\n",
       "      <td>0</td>\n",
       "      <td>27</td>\n",
       "      <td>0</td>\n",
       "      <td>567.0</td>\n",
       "      <td>16.0</td>\n",
       "      <td>4069.0</td>\n",
       "      <td>6244</td>\n",
       "      <td>0</td>\n",
       "      <td>0</td>\n",
       "      <td>0</td>\n",
       "      <td>0</td>\n",
       "      <td>0</td>\n",
       "      <td>0</td>\n",
       "      <td>0</td>\n",
       "      <td>0</td>\n",
       "      <td>1</td>\n",
       "    </tr>\n",
       "  </tbody>\n",
       "</table>\n",
       "</div>"
      ],
      "text/plain": [
       "   Product_id  Stall_no  Market_Category  Loyalty_customer  Grade  Demand  \\\n",
       "0        2508        39              205                 0      0      90   \n",
       "1         113        49                3                 1      0      87   \n",
       "2        1611         1              183                 0      2      55   \n",
       "3        1849         8              358                 1      3      86   \n",
       "4        3125        33              167                 0      0      27   \n",
       "\n",
       "   Discount_avail  charges_1  charges_2 (%)  Minimum_price  Maximum_price  \\\n",
       "0               0      380.0           16.0         2576.0           3340   \n",
       "1               0      393.0           16.0         1202.0           1955   \n",
       "2               0      493.0            9.0         7175.0          15715   \n",
       "3               0      303.0           16.0         5404.0          13078   \n",
       "4               0      567.0           16.0         4069.0           6244   \n",
       "\n",
       "   Cosmetics  Educational  Fashion  Home_decor  Hospitality  Organic  \\\n",
       "0          0            0        1           0            0        0   \n",
       "1          0            0        1           0            0        0   \n",
       "2          0            0        0           0            0        0   \n",
       "3          0            0        0           0            0        0   \n",
       "4          0            0        0           0            0        0   \n",
       "\n",
       "   Pet_care  Repair  Technology  \n",
       "0         0       0           0  \n",
       "1         0       0           0  \n",
       "2         0       0           1  \n",
       "3         0       0           0  \n",
       "4         0       0           1  "
      ]
     },
     "execution_count": 85,
     "metadata": {},
     "output_type": "execute_result"
    }
   ],
   "source": [
    "df_test = pd.concat([test,Product_Cat], axis = 1)\n",
    "df_test.drop(['Product_Category'], axis =1, inplace = True)\n",
    "df_test.head()"
   ]
  },
  {
   "cell_type": "code",
   "execution_count": 86,
   "metadata": {},
   "outputs": [
    {
     "data": {
      "text/plain": [
       "(3430, 20)"
      ]
     },
     "execution_count": 86,
     "metadata": {},
     "output_type": "execute_result"
    }
   ],
   "source": [
    "df_test.shape"
   ]
  },
  {
   "cell_type": "code",
   "execution_count": 87,
   "metadata": {},
   "outputs": [],
   "source": [
    "y = df['Selling_Price']\n",
    "X = df.drop(['Selling_Price'], axis = 1, inplace = False)"
   ]
  },
  {
   "cell_type": "code",
   "execution_count": 88,
   "metadata": {},
   "outputs": [
    {
     "data": {
      "text/plain": [
       "0     4185.947700\n",
       "1     9271.490256\n",
       "2     6785.701362\n",
       "3    13028.917824\n",
       "4      906.553935\n",
       "Name: Selling_Price, dtype: float64"
      ]
     },
     "execution_count": 88,
     "metadata": {},
     "output_type": "execute_result"
    }
   ],
   "source": [
    "y.head()"
   ]
  },
  {
   "cell_type": "code",
   "execution_count": 89,
   "metadata": {},
   "outputs": [],
   "source": [
    "from sklearn.preprocessing import PowerTransformer\n",
    "y = y.values.reshape((len(y),1))\n",
    "boxci = PowerTransformer(method='yeo-johnson', standardize=True)\n",
    "y = boxci.fit_transform(y)"
   ]
  },
  {
   "cell_type": "code",
   "execution_count": 90,
   "metadata": {},
   "outputs": [
    {
     "data": {
      "text/plain": [
       "array([[0.05422624],\n",
       "       [1.45200843],\n",
       "       [0.83678052],\n",
       "       ...,\n",
       "       [1.66412599],\n",
       "       [0.43109789],\n",
       "       [0.38864408]])"
      ]
     },
     "execution_count": 90,
     "metadata": {},
     "output_type": "execute_result"
    }
   ],
   "source": [
    "y"
   ]
  },
  {
   "cell_type": "code",
   "execution_count": 91,
   "metadata": {},
   "outputs": [],
   "source": [
    "from sklearn.model_selection import train_test_split\n",
    "X_train, X_test, y_train, y_test = train_test_split(X, y, test_size = 0.2, random_state = 42)"
   ]
  },
  {
   "cell_type": "markdown",
   "metadata": {},
   "source": [
    "# Pipeline"
   ]
  },
  {
   "cell_type": "code",
   "execution_count": 135,
   "metadata": {},
   "outputs": [],
   "source": [
    "#Regressions\n",
    "from sklearn.tree import DecisionTreeRegressor\n",
    "from sklearn.ensemble import ExtraTreesRegressor\n",
    "from sklearn.ensemble import RandomForestRegressor\n",
    "import xgboost\n",
    "from sklearn.ensemble import VotingRegressor\n",
    "from sklearn.ensemble import AdaBoostRegressor\n",
    "from sklearn.ensemble import GradientBoostingRegressor\n",
    "from sklearn.neighbors import KNeighborsRegressor\n",
    "from sklearn.linear_model import ElasticNet\n",
    "from catboost import CatBoostRegressor\n",
    "from lightgbm import LGBMRegressor\n",
    "#Evalution Metrix\n",
    "from sklearn.metrics import r2_score\n",
    "from sklearn.model_selection import cross_validate\n",
    "from sklearn.metrics import mean_squared_error"
   ]
  },
  {
   "cell_type": "code",
   "execution_count": 93,
   "metadata": {},
   "outputs": [
    {
     "data": {
      "text/plain": [
       "XGBRegressor(base_score=0.5, booster='gbtree', colsample_bylevel=1,\n",
       "             colsample_bynode=1, colsample_bytree=1, gamma=0, gpu_id=-1,\n",
       "             importance_type='gain', interaction_constraints='',\n",
       "             learning_rate=0.300000012, max_delta_step=0, max_depth=6,\n",
       "             min_child_weight=1, missing=nan, monotone_constraints='()',\n",
       "             n_estimators=100, n_jobs=-1, num_parallel_tree=1,\n",
       "             objective='reg:squarederror', random_state=0, reg_alpha=0,\n",
       "             reg_lambda=1, scale_pos_weight=1, subsample=1, tree_method='exact',\n",
       "             validate_parameters=1, verbosity=None)"
      ]
     },
     "execution_count": 93,
     "metadata": {},
     "output_type": "execute_result"
    }
   ],
   "source": [
    "xgboost_red = xgboost.XGBRegressor(n_jobs=-1)\n",
    "xgboost_red.fit(X_train, y_train)"
   ]
  },
  {
   "cell_type": "code",
   "execution_count": 94,
   "metadata": {},
   "outputs": [],
   "source": [
    "y_pred = xgboost_red.predict(X_test)"
   ]
  },
  {
   "cell_type": "code",
   "execution_count": 95,
   "metadata": {},
   "outputs": [
    {
     "data": {
      "text/plain": [
       "0.9994056447195602"
      ]
     },
     "execution_count": 95,
     "metadata": {},
     "output_type": "execute_result"
    }
   ],
   "source": [
    "xgboost_red.score(X_train, y_train)"
   ]
  },
  {
   "cell_type": "code",
   "execution_count": 96,
   "metadata": {},
   "outputs": [
    {
     "data": {
      "text/plain": [
       "0.9839172276284159"
      ]
     },
     "execution_count": 96,
     "metadata": {},
     "output_type": "execute_result"
    }
   ],
   "source": [
    "xgboost_red.score(X_test, y_test)"
   ]
  },
  {
   "cell_type": "code",
   "execution_count": 97,
   "metadata": {},
   "outputs": [],
   "source": [
    "predict_train = xgboost_red.predict(X_train)\n",
    "predict_test  = xgboost_red.predict(X_test)"
   ]
  },
  {
   "cell_type": "code",
   "execution_count": 98,
   "metadata": {},
   "outputs": [
    {
     "name": "stdout",
     "output_type": "stream",
     "text": [
      "RMSE on train data:  0.024357471933860318\n",
      "RMSE on test data:  0.12718056490837112\n"
     ]
    }
   ],
   "source": [
    "from sklearn.metrics import mean_squared_error\n",
    "from sklearn import metrics\n",
    "print('RMSE on train data: ', np.sqrt(metrics.mean_squared_error(y_train, predict_train)))\n",
    "print('RMSE on test data: ',  np.sqrt(metrics.mean_squared_error(y_test, predict_test)))"
   ]
  },
  {
   "cell_type": "code",
   "execution_count": null,
   "metadata": {},
   "outputs": [],
   "source": []
  },
  {
   "cell_type": "code",
   "execution_count": 294,
   "metadata": {},
   "outputs": [
    {
     "name": "stderr",
     "output_type": "stream",
     "text": [
      "C:\\ProgramData\\Anaconda3\\lib\\site-packages\\sklearn\\ensemble\\forest.py:245: FutureWarning: The default value of n_estimators will change from 10 in version 0.20 to 100 in 0.22.\n",
      "  \"10 in version 0.20 to 100 in 0.22.\", FutureWarning)\n",
      "C:\\ProgramData\\Anaconda3\\lib\\site-packages\\ipykernel_launcher.py:2: DataConversionWarning: A column-vector y was passed when a 1d array was expected. Please change the shape of y to (n_samples,), for example using ravel().\n",
      "  \n"
     ]
    },
    {
     "data": {
      "text/plain": [
       "RandomForestRegressor(bootstrap=True, criterion='mse', max_depth=None,\n",
       "                      max_features='auto', max_leaf_nodes=None,\n",
       "                      min_impurity_decrease=0.0, min_impurity_split=None,\n",
       "                      min_samples_leaf=1, min_samples_split=2,\n",
       "                      min_weight_fraction_leaf=0.0, n_estimators=10,\n",
       "                      n_jobs=None, oob_score=False, random_state=None,\n",
       "                      verbose=0, warm_start=False)"
      ]
     },
     "execution_count": 294,
     "metadata": {},
     "output_type": "execute_result"
    }
   ],
   "source": [
    "reg_rf = RandomForestRegressor()\n",
    "reg_rf.fit(X_train, y_train)"
   ]
  },
  {
   "cell_type": "code",
   "execution_count": 295,
   "metadata": {},
   "outputs": [
    {
     "name": "stdout",
     "output_type": "stream",
     "text": [
      "0.9968732404725986\n",
      "0.9823662881803846\n"
     ]
    }
   ],
   "source": [
    "y_pred = reg_rf.predict(X_test)\n",
    "print(reg_rf.score(X_train, y_train))\n",
    "print(reg_rf.score(X_test, y_test))"
   ]
  },
  {
   "cell_type": "code",
   "execution_count": 296,
   "metadata": {},
   "outputs": [],
   "source": [
    "predict_train = reg_rf.predict(X_train)\n",
    "predict_test  = reg_rf.predict(X_test)"
   ]
  },
  {
   "cell_type": "code",
   "execution_count": 297,
   "metadata": {},
   "outputs": [
    {
     "name": "stdout",
     "output_type": "stream",
     "text": [
      "RMSE on train data:  0.055867133548065905\n",
      "RMSE on test data:  0.13317176680426995\n"
     ]
    }
   ],
   "source": [
    "print('RMSE on train data: ', np.sqrt(metrics.mean_squared_error(y_train, predict_train)))\n",
    "print('RMSE on test data: ',  np.sqrt(metrics.mean_squared_error(y_test, predict_test)))"
   ]
  },
  {
   "cell_type": "code",
   "execution_count": 230,
   "metadata": {},
   "outputs": [
    {
     "data": {
      "text/plain": [
       "(3430, 20)"
      ]
     },
     "execution_count": 230,
     "metadata": {},
     "output_type": "execute_result"
    }
   ],
   "source": [
    "df_test.shape"
   ]
  },
  {
   "cell_type": "code",
   "execution_count": 99,
   "metadata": {},
   "outputs": [],
   "source": [
    "import pickle\n",
    "# open a file, where you ant to store the data\n",
    "file = open('xgboost.pkl', 'wb')\n",
    "\n",
    "# dump information to that file\n",
    "pickle.dump(xgboost_red, file)"
   ]
  },
  {
   "cell_type": "code",
   "execution_count": 100,
   "metadata": {},
   "outputs": [],
   "source": [
    "result = xgboost_red.predict(df_test)"
   ]
  },
  {
   "cell_type": "code",
   "execution_count": 101,
   "metadata": {},
   "outputs": [
    {
     "data": {
      "text/plain": [
       "array([-0.32379174, -0.8840945 ,  2.0485234 , ...,  0.75358665,\n",
       "       -0.1815294 , -1.1836611 ], dtype=float32)"
      ]
     },
     "execution_count": 101,
     "metadata": {},
     "output_type": "execute_result"
    }
   ],
   "source": [
    "result"
   ]
  },
  {
   "cell_type": "code",
   "execution_count": 106,
   "metadata": {},
   "outputs": [
    {
     "data": {
      "text/html": [
       "<div>\n",
       "<style scoped>\n",
       "    .dataframe tbody tr th:only-of-type {\n",
       "        vertical-align: middle;\n",
       "    }\n",
       "\n",
       "    .dataframe tbody tr th {\n",
       "        vertical-align: top;\n",
       "    }\n",
       "\n",
       "    .dataframe thead th {\n",
       "        text-align: right;\n",
       "    }\n",
       "</style>\n",
       "<table border=\"1\" class=\"dataframe\">\n",
       "  <thead>\n",
       "    <tr style=\"text-align: right;\">\n",
       "      <th></th>\n",
       "      <th>0</th>\n",
       "    </tr>\n",
       "  </thead>\n",
       "  <tbody>\n",
       "    <tr>\n",
       "      <td>0</td>\n",
       "      <td>-0.323792</td>\n",
       "    </tr>\n",
       "    <tr>\n",
       "      <td>1</td>\n",
       "      <td>-0.884094</td>\n",
       "    </tr>\n",
       "    <tr>\n",
       "      <td>2</td>\n",
       "      <td>2.048523</td>\n",
       "    </tr>\n",
       "    <tr>\n",
       "      <td>3</td>\n",
       "      <td>1.485945</td>\n",
       "    </tr>\n",
       "    <tr>\n",
       "      <td>4</td>\n",
       "      <td>0.502662</td>\n",
       "    </tr>\n",
       "  </tbody>\n",
       "</table>\n",
       "</div>"
      ],
      "text/plain": [
       "          0\n",
       "0 -0.323792\n",
       "1 -0.884094\n",
       "2  2.048523\n",
       "3  1.485945\n",
       "4  0.502662"
      ]
     },
     "execution_count": 106,
     "metadata": {},
     "output_type": "execute_result"
    }
   ],
   "source": [
    "results = pd.DataFrame(data=result)\n",
    "results.head()"
   ]
  },
  {
   "cell_type": "code",
   "execution_count": null,
   "metadata": {},
   "outputs": [],
   "source": []
  },
  {
   "cell_type": "code",
   "execution_count": 108,
   "metadata": {},
   "outputs": [],
   "source": [
    "# Applying inverse power transform to get back original form of selling price\n",
    "a_inverse_transformed = boxci.inverse_transform(results)"
   ]
  },
  {
   "cell_type": "code",
   "execution_count": 109,
   "metadata": {},
   "outputs": [
    {
     "data": {
      "text/plain": [
       "array([[ 3155.07012131],\n",
       "       [ 1895.96182644],\n",
       "       [12053.90243451],\n",
       "       ...,\n",
       "       [ 6479.44476047],\n",
       "       [ 3525.85574021],\n",
       "       [ 1354.20900083]])"
      ]
     },
     "execution_count": 109,
     "metadata": {},
     "output_type": "execute_result"
    }
   ],
   "source": [
    "a_inverse_transformed"
   ]
  },
  {
   "cell_type": "code",
   "execution_count": 125,
   "metadata": {},
   "outputs": [
    {
     "data": {
      "text/html": [
       "<div>\n",
       "<style scoped>\n",
       "    .dataframe tbody tr th:only-of-type {\n",
       "        vertical-align: middle;\n",
       "    }\n",
       "\n",
       "    .dataframe tbody tr th {\n",
       "        vertical-align: top;\n",
       "    }\n",
       "\n",
       "    .dataframe thead th {\n",
       "        text-align: right;\n",
       "    }\n",
       "</style>\n",
       "<table border=\"1\" class=\"dataframe\">\n",
       "  <thead>\n",
       "    <tr style=\"text-align: right;\">\n",
       "      <th></th>\n",
       "      <th>Selling_Price</th>\n",
       "    </tr>\n",
       "  </thead>\n",
       "  <tbody>\n",
       "    <tr>\n",
       "      <td>0</td>\n",
       "      <td>3155.07</td>\n",
       "    </tr>\n",
       "    <tr>\n",
       "      <td>1</td>\n",
       "      <td>1895.96</td>\n",
       "    </tr>\n",
       "    <tr>\n",
       "      <td>2</td>\n",
       "      <td>12053.90</td>\n",
       "    </tr>\n",
       "    <tr>\n",
       "      <td>3</td>\n",
       "      <td>9419.95</td>\n",
       "    </tr>\n",
       "    <tr>\n",
       "      <td>4</td>\n",
       "      <td>5598.80</td>\n",
       "    </tr>\n",
       "  </tbody>\n",
       "</table>\n",
       "</div>"
      ],
      "text/plain": [
       "   Selling_Price\n",
       "0        3155.07\n",
       "1        1895.96\n",
       "2       12053.90\n",
       "3        9419.95\n",
       "4        5598.80"
      ]
     },
     "execution_count": 125,
     "metadata": {},
     "output_type": "execute_result"
    }
   ],
   "source": [
    "res = pd.DataFrame(data=a_inverse_transformed, columns={'Selling_Price': '0'}).round(2)\n",
    "res.head()"
   ]
  },
  {
   "cell_type": "code",
   "execution_count": 127,
   "metadata": {},
   "outputs": [
    {
     "data": {
      "text/plain": [
       "0    SCHE4YSTDVPVZVXW\n",
       "1    ACCEGCATKHNRXUHW\n",
       "2    NKCE6GJ5XVJDXNNZ\n",
       "3    NKCEB8BK3ZXDHDHM\n",
       "4    TOPEFDXSAHRNPF94\n",
       "Name: Product_id, dtype: object"
      ]
     },
     "execution_count": 127,
     "metadata": {},
     "output_type": "execute_result"
    }
   ],
   "source": [
    "Product_id = test1['Product_id']"
   ]
  },
  {
   "cell_type": "code",
   "execution_count": 130,
   "metadata": {},
   "outputs": [],
   "source": [
    "res1 = pd.concat([Product_id, res], axis = 1)"
   ]
  },
  {
   "cell_type": "code",
   "execution_count": 133,
   "metadata": {},
   "outputs": [
    {
     "data": {
      "text/html": [
       "<div>\n",
       "<style scoped>\n",
       "    .dataframe tbody tr th:only-of-type {\n",
       "        vertical-align: middle;\n",
       "    }\n",
       "\n",
       "    .dataframe tbody tr th {\n",
       "        vertical-align: top;\n",
       "    }\n",
       "\n",
       "    .dataframe thead th {\n",
       "        text-align: right;\n",
       "    }\n",
       "</style>\n",
       "<table border=\"1\" class=\"dataframe\">\n",
       "  <thead>\n",
       "    <tr style=\"text-align: right;\">\n",
       "      <th></th>\n",
       "      <th>Product_id</th>\n",
       "      <th>Selling_Price</th>\n",
       "    </tr>\n",
       "  </thead>\n",
       "  <tbody>\n",
       "    <tr>\n",
       "      <td>0</td>\n",
       "      <td>SCHE4YSTDVPVZVXW</td>\n",
       "      <td>3155.07</td>\n",
       "    </tr>\n",
       "    <tr>\n",
       "      <td>1</td>\n",
       "      <td>ACCEGCATKHNRXUHW</td>\n",
       "      <td>1895.96</td>\n",
       "    </tr>\n",
       "    <tr>\n",
       "      <td>2</td>\n",
       "      <td>NKCE6GJ5XVJDXNNZ</td>\n",
       "      <td>12053.90</td>\n",
       "    </tr>\n",
       "    <tr>\n",
       "      <td>3</td>\n",
       "      <td>NKCEB8BK3ZXDHDHM</td>\n",
       "      <td>9419.95</td>\n",
       "    </tr>\n",
       "    <tr>\n",
       "      <td>4</td>\n",
       "      <td>TOPEFDXSAHRNPF94</td>\n",
       "      <td>5598.80</td>\n",
       "    </tr>\n",
       "  </tbody>\n",
       "</table>\n",
       "</div>"
      ],
      "text/plain": [
       "         Product_id  Selling_Price\n",
       "0  SCHE4YSTDVPVZVXW        3155.07\n",
       "1  ACCEGCATKHNRXUHW        1895.96\n",
       "2  NKCE6GJ5XVJDXNNZ       12053.90\n",
       "3  NKCEB8BK3ZXDHDHM        9419.95\n",
       "4  TOPEFDXSAHRNPF94        5598.80"
      ]
     },
     "execution_count": 133,
     "metadata": {},
     "output_type": "execute_result"
    }
   ],
   "source": [
    "results = pd.DataFrame(data = res1, columns = {'Product_id': '0', 'Selling_Price': '1'})\n",
    "results.head()"
   ]
  },
  {
   "cell_type": "code",
   "execution_count": 134,
   "metadata": {},
   "outputs": [],
   "source": [
    "results.to_csv(\"Submission.csv\", index=False)"
   ]
  },
  {
   "cell_type": "code",
   "execution_count": null,
   "metadata": {},
   "outputs": [],
   "source": []
  }
 ],
 "metadata": {
  "kernelspec": {
   "display_name": "Python 3",
   "language": "python",
   "name": "python3"
  },
  "language_info": {
   "codemirror_mode": {
    "name": "ipython",
    "version": 3
   },
   "file_extension": ".py",
   "mimetype": "text/x-python",
   "name": "python",
   "nbconvert_exporter": "python",
   "pygments_lexer": "ipython3",
   "version": "3.7.4"
  }
 },
 "nbformat": 4,
 "nbformat_minor": 2
}
